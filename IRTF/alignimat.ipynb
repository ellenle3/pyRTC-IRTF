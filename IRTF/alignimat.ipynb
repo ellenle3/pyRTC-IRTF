{
 "cells": [
  {
   "cell_type": "code",
   "execution_count": 2,
   "id": "e019fe17-3dc8-44d6-a168-6c6705146d35",
   "metadata": {},
   "outputs": [],
   "source": [
    "import numpy as np\n",
    "import matplotlib.pyplot as plt"
   ]
  },
  {
   "cell_type": "markdown",
   "id": "235fcd08-bfa8-4d31-bbb0-b8d300a86290",
   "metadata": {},
   "source": [
    "## Applies rotation, flip, and amplitude scaling to a theoretical imat based on measured data"
   ]
  },
  {
   "cell_type": "code",
   "execution_count": 3,
   "id": "2ca41577-ccf8-47fb-b78b-4afed6489e29",
   "metadata": {},
   "outputs": [],
   "source": [
    "theor = np.load( \"/Users/ellenlee/Documents/pyRTC-IRTF/IRTF/calib/im_felix_theor0.npy\" )\n",
    "measured = theor.copy()"
   ]
  },
  {
   "cell_type": "code",
   "execution_count": 5,
   "id": "9721ccdc-f35a-4210-8bc7-44728bf89272",
   "metadata": {},
   "outputs": [
    {
     "data": {
      "text/plain": [
       "(8, 7)"
      ]
     },
     "execution_count": 5,
     "metadata": {},
     "output_type": "execute_result"
    }
   ],
   "source": [
    "theor.shape"
   ]
  },
  {
   "cell_type": "code",
   "execution_count": 7,
   "id": "411ba839-3a21-49e8-a9dc-a7f5a2b588dd",
   "metadata": {},
   "outputs": [
    {
     "data": {
      "text/plain": [
       "array([ 2.99975977e-16,  4.89897949e+00, -4.89897949e+00, -7.87815987e-16,\n",
       "        4.89897949e+00, -3.84592537e-16,  5.99951955e-16, -4.89897949e+00])"
      ]
     },
     "execution_count": 7,
     "metadata": {},
     "output_type": "execute_result"
    }
   ],
   "source": [
    "Nmodes = theor.shape[1]\n",
    "coeffs = np.zeros(Nmodes)\n",
    "\n",
    "coeffs[2] = 1\n",
    "\n",
    "np.dot(theor, coeffs)"
   ]
  },
  {
   "cell_type": "code",
   "execution_count": null,
   "id": "e4958ca4-92b9-41f3-bba7-e8adb08b1d7f",
   "metadata": {},
   "outputs": [],
   "source": []
  }
 ],
 "metadata": {
  "kernelspec": {
   "display_name": "Python 3 (ipykernel)",
   "language": "python",
   "name": "python3"
  },
  "language_info": {
   "codemirror_mode": {
    "name": "ipython",
    "version": 3
   },
   "file_extension": ".py",
   "mimetype": "text/x-python",
   "name": "python",
   "nbconvert_exporter": "python",
   "pygments_lexer": "ipython3",
   "version": "3.9.20"
  }
 },
 "nbformat": 4,
 "nbformat_minor": 5
}
