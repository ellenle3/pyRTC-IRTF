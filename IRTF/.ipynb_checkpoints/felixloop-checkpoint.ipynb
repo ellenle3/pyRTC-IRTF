{
 "cells": [
  {
   "cell_type": "code",
   "execution_count": 1,
   "id": "c308ba58-5022-426a-ab11-ae9264c63b02",
   "metadata": {},
   "outputs": [
    {
     "name": "stdout",
     "output_type": "stream",
     "text": [
      "Spinnaker python SDK installation not found\n",
      "Spinnaker python SDK installation not found\n",
      "ximea python SDK installation not found\n",
      "PI python SDK installation not found\n"
     ]
    }
   ],
   "source": [
    "import numpy as np\n",
    "import matplotlib.pyplot as plt\n",
    "\n",
    "import pyRTC.utils as utils\n",
    "from pyRTC import *\n",
    "from astropy.io import fits"
   ]
  },
  {
   "cell_type": "code",
   "execution_count": 2,
   "id": "870d2e91-906d-4588-9bc2-75ec87ccbd03",
   "metadata": {
    "collapsed": true,
    "jupyter": {
     "outputs_hidden": true
    },
    "scrolled": true
   },
   "outputs": [
    {
     "name": "stdout",
     "output_type": "stream",
     "text": [
      "Opening Existing Shared Memory Object wfs\n",
      "Opening Existing Shared Memory Object wfs_meta\n",
      "Opening Existing Shared Memory Object wfs_meta\n",
      "Closing wfs\n",
      "Creating New Shared Memory Object wfs_gpu_handle\n",
      "Opening Existing Shared Memory Object wfs_gpu_handle_meta\n",
      "Closing wfs_meta\n",
      "Opening Existing Shared Memory Object wfsRaw\n",
      "Opening Existing Shared Memory Object wfsRaw_meta\n",
      "Closing wfs_gpu_handle\n",
      "Opening Existing Shared Memory Object wfsRaw_meta\n",
      "Closing wfsRaw\n",
      "Creating New Shared Memory Object wfsRaw_gpu_handle\n",
      "Opening Existing Shared Memory Object wfsRaw_gpu_handle_meta\n",
      "Closing wfsRaw_meta\n",
      "Creating New Shared Memory Object wfc\n",
      "Creating New Shared Memory Object wfc_meta\n",
      "Closing wfsRaw_gpu_handle\n",
      "Opening Existing Shared Memory Object wfc_meta\n",
      "Closing wfc\n",
      "Creating New Shared Memory Object wfc_gpu_handle\n",
      "Opening Existing Shared Memory Object wfc_gpu_handle_meta\n",
      "Closing wfc_meta\n",
      "Creating New Shared Memory Object wfc2D\n",
      "Creating New Shared Memory Object wfc2D_meta\n",
      "Closing wfc_gpu_handle\n",
      "Opening Existing Shared Memory Object wfc2D_meta\n",
      "Closing wfc2D\n",
      "Creating New Shared Memory Object wfc2D_gpu_handle\n",
      "Opening Existing Shared Memory Object wfc2D_gpu_handle_meta\n",
      "Closing wfc2D_meta\n",
      "Creating New Shared Memory Object wfcShape\n",
      "Creating New Shared Memory Object wfcShape_meta\n",
      "Closing wfc2D_gpu_handle\n",
      "Opening Existing Shared Memory Object wfcShape_meta\n",
      "Closing wfcShape\n",
      "Creating New Shared Memory Object wfcShape_gpu_handle\n",
      "Opening Existing Shared Memory Object wfcShape_gpu_handle_meta\n",
      "Closing wfcShape_meta\n",
      "Creating New Shared Memory Object signal\n",
      "Creating New Shared Memory Object signal_meta\n",
      "Closing wfcShape_gpu_handle\n",
      "Opening Existing Shared Memory Object signal_meta\n",
      "Closing signal\n",
      "Creating New Shared Memory Object signal_gpu_handle\n",
      "Opening Existing Shared Memory Object signal_gpu_handle_meta\n",
      "Closing signal_meta\n",
      "Creating New Shared Memory Object signal2D\n",
      "Creating New Shared Memory Object signal2D_meta\n",
      "Closing signal_gpu_handle\n",
      "Opening Existing Shared Memory Object signal2D_meta\n",
      "Closing signal2D\n",
      "Creating New Shared Memory Object signal2D_gpu_handle\n",
      "Opening Existing Shared Memory Object signal2D_gpu_handle_meta\n",
      "Closing signal2D_meta\n",
      "Creating New Shared Memory Object psfShort\n",
      "Creating New Shared Memory Object psfShort_meta\n",
      "Closing signal2D_gpu_handle\n",
      "Opening Existing Shared Memory Object psfShort_meta\n",
      "Closing psfShort\n",
      "Creating New Shared Memory Object psfShort_gpu_handle\n",
      "Opening Existing Shared Memory Object psfShort_gpu_handle_meta\n",
      "Closing psfShort_meta\n",
      "Creating New Shared Memory Object psfLong\n",
      "Creating New Shared Memory Object psfLong_meta\n",
      "Closing psfShort_gpu_handle\n",
      "Opening Existing Shared Memory Object psfLong_meta\n",
      "Closing psfLong\n",
      "Creating New Shared Memory Object psfLong_gpu_handle\n",
      "Opening Existing Shared Memory Object psfLong_gpu_handle_meta\n",
      "Closing psfLong_meta\n",
      "Opening Existing Shared Memory Object wfsInfo\n",
      "Opening Existing Shared Memory Object wfsInfo_meta\n",
      "Closing psfLong_gpu_handle\n",
      "Opening Existing Shared Memory Object wfsInfo_meta\n",
      "Closing wfsInfo\n",
      "Creating New Shared Memory Object wfsInfo_gpu_handle\n",
      "Opening Existing Shared Memory Object wfsInfo_gpu_handle_meta\n",
      "Closing wfsInfo_meta\n",
      "Creating New Shared Memory Object loop\n",
      "Creating New Shared Memory Object loop_meta\n",
      "Closing wfsInfo_gpu_handle\n",
      "Opening Existing Shared Memory Object loop_meta\n",
      "Closing loop\n",
      "Creating New Shared Memory Object loop_gpu_handle\n",
      "Opening Existing Shared Memory Object loop_gpu_handle_meta\n",
      "Closing loop_meta\n",
      "Creating New Shared Memory Object refSlopes\n",
      "Creating New Shared Memory Object refSlopes_meta\n",
      "Closing loop_gpu_handle\n",
      "Opening Existing Shared Memory Object refSlopes_meta\n",
      "Closing refSlopes\n",
      "Creating New Shared Memory Object refSlopes_gpu_handle\n",
      "Opening Existing Shared Memory Object refSlopes_gpu_handle_meta\n",
      "Closing refSlopes_meta\n",
      "Creating New Shared Memory Object subApMasks\n",
      "Creating New Shared Memory Object subApMasks_meta\n",
      "Closing refSlopes_gpu_handle\n",
      "Opening Existing Shared Memory Object subApMasks_meta\n",
      "Closing subApMasks\n",
      "Creating New Shared Memory Object subApMasks_gpu_handle\n",
      "Opening Existing Shared Memory Object subApMasks_gpu_handle_meta\n",
      "Closing subApMasks_meta\n",
      "Creating New Shared Memory Object cmat\n",
      "Creating New Shared Memory Object cmat_meta\n",
      "Closing subApMasks_gpu_handle\n",
      "Opening Existing Shared Memory Object cmat_meta\n",
      "Closing cmat\n",
      "Creating New Shared Memory Object cmat_gpu_handle\n",
      "Opening Existing Shared Memory Object cmat_gpu_handle_meta\n",
      "Closing cmat_meta\n",
      "Creating New Shared Memory Object m2c\n",
      "Creating New Shared Memory Object m2c_meta\n",
      "Closing cmat_gpu_handle\n",
      "Opening Existing Shared Memory Object m2c_meta\n",
      "Closing m2c\n",
      "Creating New Shared Memory Object m2c_gpu_handle\n",
      "Opening Existing Shared Memory Object m2c_gpu_handle_meta\n",
      "Closing m2c_meta\n",
      "Closing m2c_gpu_handle\n"
     ]
    }
   ],
   "source": [
    "shm_names = [\"wfs\", \"wfsRaw\", \"wfc\", \"wfc2D\", \"wfcShape\", \"signal\", \"signal2D\", \"psfShort\", \"psfLong\", \"wfsInfo\", \"loop\", \"refSlopes\", \"subApMasks\", \"cmat\", \"m2c\"] #list of SHMs to reset\n",
    "clear_shms(shm_names)"
   ]
  },
  {
   "cell_type": "markdown",
   "id": "e124f714-021b-44f5-b988-3c6e46263d96",
   "metadata": {},
   "source": [
    "## test wfs cam"
   ]
  },
  {
   "cell_type": "code",
   "execution_count": 3,
   "id": "cf21250b-c8ec-46e2-bbd3-53ae86a96d84",
   "metadata": {
    "collapsed": true,
    "jupyter": {
     "outputs_hidden": true,
     "source_hidden": true
    }
   },
   "outputs": [
    {
     "name": "stderr",
     "output_type": "stream",
     "text": [
      "Traceback (most recent call last):\n",
      "  File \"/usr/lib64/python3.9/multiprocessing/resource_tracker.py\", line 201, in main\n",
      "    cache[rtype].remove(name)\n",
      "KeyError: '/wfs'\n",
      "Traceback (most recent call last):\n",
      "  File \"/usr/lib64/python3.9/multiprocessing/resource_tracker.py\", line 201, in main\n",
      "    cache[rtype].remove(name)\n",
      "KeyError: '/wfs_meta'\n",
      "Traceback (most recent call last):\n",
      "  File \"/usr/lib64/python3.9/multiprocessing/resource_tracker.py\", line 201, in main\n",
      "    cache[rtype].remove(name)\n",
      "KeyError: '/wfs_gpu_handle'\n",
      "Traceback (most recent call last):\n",
      "  File \"/usr/lib64/python3.9/multiprocessing/resource_tracker.py\", line 201, in main\n",
      "    cache[rtype].remove(name)\n",
      "KeyError: '/wfsRaw'\n",
      "Traceback (most recent call last):\n",
      "  File \"/usr/lib64/python3.9/multiprocessing/resource_tracker.py\", line 201, in main\n",
      "    cache[rtype].remove(name)\n",
      "KeyError: '/wfsRaw_meta'\n",
      "Traceback (most recent call last):\n",
      "  File \"/usr/lib64/python3.9/multiprocessing/resource_tracker.py\", line 201, in main\n",
      "    cache[rtype].remove(name)\n",
      "KeyError: '/wfsRaw_gpu_handle'\n",
      "Traceback (most recent call last):\n",
      "  File \"/usr/lib64/python3.9/multiprocessing/resource_tracker.py\", line 201, in main\n",
      "    cache[rtype].remove(name)\n",
      "KeyError: '/wfc'\n",
      "Traceback (most recent call last):\n",
      "  File \"/usr/lib64/python3.9/multiprocessing/resource_tracker.py\", line 201, in main\n",
      "    cache[rtype].remove(name)\n",
      "KeyError: '/wfc_meta'\n",
      "Traceback (most recent call last):\n",
      "  File \"/usr/lib64/python3.9/multiprocessing/resource_tracker.py\", line 201, in main\n",
      "    cache[rtype].remove(name)\n",
      "KeyError: '/wfc_gpu_handle'\n",
      "Traceback (most recent call last):\n",
      "  File \"/usr/lib64/python3.9/multiprocessing/resource_tracker.py\", line 201, in main\n",
      "    cache[rtype].remove(name)\n",
      "KeyError: '/wfc2D'\n",
      "Traceback (most recent call last):\n",
      "  File \"/usr/lib64/python3.9/multiprocessing/resource_tracker.py\", line 201, in main\n",
      "    cache[rtype].remove(name)\n",
      "KeyError: '/wfc2D_meta'\n",
      "Traceback (most recent call last):\n",
      "  File \"/usr/lib64/python3.9/multiprocessing/resource_tracker.py\", line 201, in main\n",
      "    cache[rtype].remove(name)\n",
      "KeyError: '/wfc2D_gpu_handle'\n",
      "Traceback (most recent call last):\n",
      "  File \"/usr/lib64/python3.9/multiprocessing/resource_tracker.py\", line 201, in main\n",
      "    cache[rtype].remove(name)\n",
      "KeyError: '/wfcShape'\n",
      "Traceback (most recent call last):\n",
      "  File \"/usr/lib64/python3.9/multiprocessing/resource_tracker.py\", line 201, in main\n",
      "    cache[rtype].remove(name)\n",
      "KeyError: '/wfcShape_meta'\n",
      "Traceback (most recent call last):\n",
      "  File \"/usr/lib64/python3.9/multiprocessing/resource_tracker.py\", line 201, in main\n",
      "    cache[rtype].remove(name)\n",
      "KeyError: '/wfcShape_gpu_handle'\n",
      "Traceback (most recent call last):\n",
      "  File \"/usr/lib64/python3.9/multiprocessing/resource_tracker.py\", line 201, in main\n",
      "    cache[rtype].remove(name)\n",
      "KeyError: '/signal'\n",
      "Traceback (most recent call last):\n",
      "  File \"/usr/lib64/python3.9/multiprocessing/resource_tracker.py\", line 201, in main\n",
      "    cache[rtype].remove(name)\n",
      "KeyError: '/signal_meta'\n",
      "Traceback (most recent call last):\n",
      "  File \"/usr/lib64/python3.9/multiprocessing/resource_tracker.py\", line 201, in main\n",
      "    cache[rtype].remove(name)\n",
      "KeyError: '/signal_gpu_handle'\n",
      "Traceback (most recent call last):\n",
      "  File \"/usr/lib64/python3.9/multiprocessing/resource_tracker.py\", line 201, in main\n",
      "    cache[rtype].remove(name)\n",
      "KeyError: '/signal2D'\n",
      "Traceback (most recent call last):\n",
      "  File \"/usr/lib64/python3.9/multiprocessing/resource_tracker.py\", line 201, in main\n",
      "    cache[rtype].remove(name)\n",
      "KeyError: '/signal2D_meta'\n",
      "Traceback (most recent call last):\n",
      "  File \"/usr/lib64/python3.9/multiprocessing/resource_tracker.py\", line 201, in main\n",
      "    cache[rtype].remove(name)\n",
      "KeyError: '/signal2D_gpu_handle'\n",
      "Traceback (most recent call last):\n",
      "  File \"/usr/lib64/python3.9/multiprocessing/resource_tracker.py\", line 201, in main\n",
      "    cache[rtype].remove(name)\n",
      "KeyError: '/psfShort'\n",
      "Traceback (most recent call last):\n",
      "  File \"/usr/lib64/python3.9/multiprocessing/resource_tracker.py\", line 201, in main\n",
      "    cache[rtype].remove(name)\n",
      "KeyError: '/psfShort_meta'\n",
      "Traceback (most recent call last):\n",
      "  File \"/usr/lib64/python3.9/multiprocessing/resource_tracker.py\", line 201, in main\n",
      "    cache[rtype].remove(name)\n",
      "KeyError: '/psfShort_gpu_handle'\n",
      "Traceback (most recent call last):\n",
      "  File \"/usr/lib64/python3.9/multiprocessing/resource_tracker.py\", line 201, in main\n",
      "    cache[rtype].remove(name)\n",
      "KeyError: '/psfLong'\n",
      "Traceback (most recent call last):\n",
      "  File \"/usr/lib64/python3.9/multiprocessing/resource_tracker.py\", line 201, in main\n",
      "    cache[rtype].remove(name)\n",
      "KeyError: '/psfLong_meta'\n",
      "Traceback (most recent call last):\n",
      "  File \"/usr/lib64/python3.9/multiprocessing/resource_tracker.py\", line 201, in main\n",
      "    cache[rtype].remove(name)\n",
      "KeyError: '/psfLong_gpu_handle'\n",
      "Traceback (most recent call last):\n",
      "  File \"/usr/lib64/python3.9/multiprocessing/resource_tracker.py\", line 201, in main\n",
      "    cache[rtype].remove(name)\n",
      "KeyError: '/wfsInfo'\n",
      "Traceback (most recent call last):\n",
      "  File \"/usr/lib64/python3.9/multiprocessing/resource_tracker.py\", line 201, in main\n",
      "    cache[rtype].remove(name)\n",
      "KeyError: '/wfsInfo_meta'\n",
      "Traceback (most recent call last):\n",
      "  File \"/usr/lib64/python3.9/multiprocessing/resource_tracker.py\", line 201, in main\n",
      "    cache[rtype].remove(name)\n",
      "KeyError: '/wfsInfo_gpu_handle'\n",
      "Traceback (most recent call last):\n",
      "  File \"/usr/lib64/python3.9/multiprocessing/resource_tracker.py\", line 201, in main\n",
      "    cache[rtype].remove(name)\n",
      "KeyError: '/loop'\n",
      "Traceback (most recent call last):\n",
      "  File \"/usr/lib64/python3.9/multiprocessing/resource_tracker.py\", line 201, in main\n",
      "    cache[rtype].remove(name)\n",
      "KeyError: '/loop_meta'\n",
      "Traceback (most recent call last):\n",
      "  File \"/usr/lib64/python3.9/multiprocessing/resource_tracker.py\", line 201, in main\n",
      "    cache[rtype].remove(name)\n",
      "KeyError: '/loop_gpu_handle'\n",
      "Traceback (most recent call last):\n",
      "  File \"/usr/lib64/python3.9/multiprocessing/resource_tracker.py\", line 201, in main\n",
      "    cache[rtype].remove(name)\n",
      "KeyError: '/refSlopes'\n",
      "Traceback (most recent call last):\n",
      "  File \"/usr/lib64/python3.9/multiprocessing/resource_tracker.py\", line 201, in main\n",
      "    cache[rtype].remove(name)\n",
      "KeyError: '/refSlopes_meta'\n",
      "Traceback (most recent call last):\n",
      "  File \"/usr/lib64/python3.9/multiprocessing/resource_tracker.py\", line 201, in main\n",
      "    cache[rtype].remove(name)\n",
      "KeyError: '/refSlopes_gpu_handle'\n",
      "Traceback (most recent call last):\n",
      "  File \"/usr/lib64/python3.9/multiprocessing/resource_tracker.py\", line 201, in main\n",
      "    cache[rtype].remove(name)\n",
      "KeyError: '/subApMasks'\n",
      "Traceback (most recent call last):\n",
      "  File \"/usr/lib64/python3.9/multiprocessing/resource_tracker.py\", line 201, in main\n",
      "    cache[rtype].remove(name)\n",
      "KeyError: '/subApMasks_meta'\n",
      "Traceback (most recent call last):\n",
      "  File \"/usr/lib64/python3.9/multiprocessing/resource_tracker.py\", line 201, in main\n",
      "    cache[rtype].remove(name)\n",
      "KeyError: '/subApMasks_gpu_handle'\n",
      "Traceback (most recent call last):\n",
      "  File \"/usr/lib64/python3.9/multiprocessing/resource_tracker.py\", line 201, in main\n",
      "    cache[rtype].remove(name)\n",
      "KeyError: '/cmat'\n",
      "Traceback (most recent call last):\n",
      "  File \"/usr/lib64/python3.9/multiprocessing/resource_tracker.py\", line 201, in main\n",
      "    cache[rtype].remove(name)\n",
      "KeyError: '/cmat_meta'\n",
      "Traceback (most recent call last):\n",
      "  File \"/usr/lib64/python3.9/multiprocessing/resource_tracker.py\", line 201, in main\n",
      "    cache[rtype].remove(name)\n",
      "KeyError: '/cmat_gpu_handle'\n",
      "Traceback (most recent call last):\n",
      "  File \"/usr/lib64/python3.9/multiprocessing/resource_tracker.py\", line 201, in main\n",
      "    cache[rtype].remove(name)\n",
      "KeyError: '/m2c'\n",
      "Traceback (most recent call last):\n",
      "  File \"/usr/lib64/python3.9/multiprocessing/resource_tracker.py\", line 201, in main\n",
      "    cache[rtype].remove(name)\n",
      "KeyError: '/m2c_meta'\n",
      "Traceback (most recent call last):\n",
      "  File \"/usr/lib64/python3.9/multiprocessing/resource_tracker.py\", line 201, in main\n",
      "    cache[rtype].remove(name)\n",
      "KeyError: '/m2c_gpu_handle'\n",
      "WARNING:root:Unable to adjust nice level.                         Give your user sudo privledges without passowrd to use this feature.\n"
     ]
    },
    {
     "name": "stdout",
     "output_type": "stream",
     "text": [
      "Creating New Shared Memory Object wfsRaw\n",
      "Creating New Shared Memory Object wfsRaw_meta\n",
      "Creating New Shared Memory Object wfs\n",
      "Creating New Shared Memory Object wfs_meta\n",
      "Creating New Shared Memory Object wfsInfo\n",
      "Thread expose: Priority set to REALTIME\n",
      "Creating New Shared Memory Object wfsInfo_meta\n",
      "Using HSSpeed index 0: 17.00 MHz\n",
      "Using VSSpeed index 1: 0.50 µs\n"
     ]
    }
   ],
   "source": [
    "conf = utils.read_yaml_file(\"config_felix.yaml\")\n",
    "wfs_conf = conf[\"wfs\"]\n",
    "wfs = AndorWFS(wfs_conf)\n",
    "wfs.start()"
   ]
  },
  {
   "cell_type": "code",
   "execution_count": 3,
   "id": "48e4ca49-54e6-4464-9369-e9147ccbacb8",
   "metadata": {},
   "outputs": [],
   "source": [
    "im = wfs.image.read()"
   ]
  },
  {
   "cell_type": "code",
   "execution_count": 13,
   "id": "2504a395-721a-45bc-8c60-e9b322690095",
   "metadata": {},
   "outputs": [],
   "source": [
    "wfs.setExposure(0.01)"
   ]
  },
  {
   "cell_type": "code",
   "execution_count": null,
   "id": "1ce0660d-c281-4d5e-b0b3-998eb1b02817",
   "metadata": {},
   "outputs": [],
   "source": [
    "wfs.expose()"
   ]
  },
  {
   "cell_type": "code",
   "execution_count": 9,
   "id": "2accd917-0441-48eb-9e78-2f9be8c6518b",
   "metadata": {},
   "outputs": [
    {
     "data": {
      "text/plain": [
       "(20002, array([478, 491, 464, ..., 491, 488, 475], dtype=int16))"
      ]
     },
     "execution_count": 9,
     "metadata": {},
     "output_type": "execute_result"
    }
   ],
   "source": [
    "wfs.sdk.GetMostRecentImage16(wfs.size)"
   ]
  },
  {
   "cell_type": "code",
   "execution_count": 8,
   "id": "7c127bef-d2a3-4a1c-85a2-bc55eb23e605",
   "metadata": {},
   "outputs": [
    {
     "data": {
      "text/plain": [
       "(20002, 156)"
      ]
     },
     "execution_count": 8,
     "metadata": {},
     "output_type": "execute_result"
    }
   ],
   "source": [
    "wfs.sdk.GetTotalNumberImagesAcquired()"
   ]
  },
  {
   "cell_type": "code",
   "execution_count": 17,
   "id": "95bb47ff-7dfe-4522-8aa8-d9356a452262",
   "metadata": {},
   "outputs": [
    {
     "name": "stdout",
     "output_type": "stream",
     "text": [
      "Using HSSpeed index 0: 17.00 MHz\n",
      "Using VSSpeed index 1: 0.50 µs\n"
     ]
    }
   ],
   "source": [
    "wfs.setReadout(hi=0,vi=1,amplifier=0)"
   ]
  },
  {
   "cell_type": "code",
   "execution_count": 5,
   "id": "68755a1b-fc38-491b-95a7-b31934149459",
   "metadata": {},
   "outputs": [
    {
     "name": "stdout",
     "output_type": "stream",
     "text": [
      "Function GetNumberADChannels returned 20002 number of available channels 1\n",
      "Function GetNumberHSSpeeds 20002 number of available speeds 4\n",
      "Available HSSpeeds in MHz [17.0, 10.0, 5.0, 1.0] \n",
      "Function GetNumberVSSpeeds 20072 number of available speeds 0\n",
      "Available VSSpeeds in us []\n",
      "Recommended VSSpeed 0.0 index 0\n",
      "Function GetNumberAmp returned 20002 number of amplifiers 2\n",
      "Available amplifier modes ['ElectronMultiplying', 'Conventional']\n"
     ]
    }
   ],
   "source": [
    "wfs.showAvailableReadout()"
   ]
  },
  {
   "cell_type": "code",
   "execution_count": 3,
   "id": "e7d0f586",
   "metadata": {
    "collapsed": true,
    "jupyter": {
     "outputs_hidden": true,
     "source_hidden": true
    }
   },
   "outputs": [
    {
     "name": "stderr",
     "output_type": "stream",
     "text": [
      "WARNING:root:Unable to adjust nice level.                         Give your user sudo privledges without passowrd to use this feature.\n"
     ]
    },
    {
     "name": "stdout",
     "output_type": "stream",
     "text": [
      "Creating New Shared Memory Object wfsRaw\n",
      "Creating New Shared Memory Object wfsRaw_meta\n",
      "Creating New Shared Memory Object wfs\n",
      "Thread expose: Priority set to REALTIME\n",
      "Creating New Shared Memory Object wfs_meta\n",
      "Creating New Shared Memory Object wfsInfo\n",
      "Creating New Shared Memory Object wfsInfo_meta\n",
      "Using HSSpeed index 0: 17.00 MHz\n",
      "Using VSSpeed index 1: 0.50 µs\n"
     ]
    },
    {
     "data": {
      "image/png": "[encoded data removed]",
      "text/plain": [
       "<Figure size 640x480 with 1 Axes>"
      ]
     },
     "metadata": {},
     "output_type": "display_data"
    }
   ],
   "source": [
    "# Get WFS image. make sure to reset SHMs after you're done.\n",
    "conf = utils.read_yaml_file(\"config_felix.yaml\")\n",
    "wfs_conf = conf[\"wfs\"]\n",
    "wfs_conf[\"width\"] = 512\n",
    "wfs_conf[\"height\"] = 512\n",
    "wfs_conf[\"left\"] = 1\n",
    "wfs_conf[\"top\"] = 1\n",
    "wfs_conf[\"exposure\"] = 1\n",
    "wfs = AndorWFS(wfs_conf)\n",
    "wfs.setRoi([512,512,1,1])\n",
    "wfs.start()\n",
    "time.sleep(1)\n",
    "img = wfs.image.read()\n",
    "wfs.stop()\n",
    "plt.figure()\n",
    "plt.imshow(img)\n",
    "plt.show()\n",
    "fits.writeto(\"../pyRTCView/felix_image.fits\", img, overwrite=True)"
   ]
  },
  {
   "cell_type": "markdown",
   "id": "f6a93337-4c5c-46fd-a634-abcfbaaae80c",
   "metadata": {},
   "source": [
    "## Init hardware"
   ]
  },
  {
   "cell_type": "code",
   "execution_count": 2,
   "id": "0cc6e277-5f29-4966-b5a1-fd6e63f6dd54",
   "metadata": {
    "collapsed": true,
    "jupyter": {
     "outputs_hidden": true
    }
   },
   "outputs": [
    {
     "name": "stderr",
     "output_type": "stream",
     "text": [
      "WARNING:root:Unable to adjust nice level.                         Give your user sudo privledges without passowrd to use this feature.\n"
     ]
    },
    {
     "name": "stdout",
     "output_type": "stream",
     "text": [
      "Thread expose: Priority set to REALTIME\n",
      "Opening Existing Shared Memory Object wfsRaw\n",
      "Opening Existing Shared Memory Object wfsRaw_meta\n",
      "Opening Existing Shared Memory Object wfs\n",
      "Opening Existing Shared Memory Object wfs_meta\n",
      "Opening Existing Shared Memory Object wfsInfo\n",
      "Opening Existing Shared Memory Object wfsInfo_meta\n",
      "Using HSSpeed index 0: 17.00 MHz\n",
      "Using VSSpeed index 1: 0.50 µs\n"
     ]
    },
    {
     "name": "stderr",
     "output_type": "stream",
     "text": [
      "WARNING:root:Unable to adjust nice level.                         Give your user sudo privledges without passowrd to use this feature.\n",
      "WARNING:root:Unable to adjust nice level.                         Give your user sudo privledges without passowrd to use this feature.\n",
      "WARNING:root:Unable to adjust nice level.                         Give your user sudo privledges without passowrd to use this feature.\n"
     ]
    },
    {
     "name": "stdout",
     "output_type": "stream",
     "text": [
      "Opening Existing Shared Memory Object wfs_meta\n",
      "Closing wfs_meta\n",
      "Opening Existing Shared Memory Object wfs\n",
      "Thread computeSignal: Priority set to REALTIME\n",
      "Opening Existing Shared Memory Object wfs_meta\n",
      "Opening Existing Shared Memory Object subApMasks\n",
      "Opening Existing Shared Memory Object subApMasks_meta\n",
      "Opening Existing Shared Memory Object signal\n",
      "Opening Existing Shared Memory Object signal_meta\n",
      "Opening Existing Shared Memory Object signal2D\n",
      "Opening Existing Shared Memory Object signal2D_meta\n",
      "Opening Existing Shared Memory Object refSlopes\n",
      "Opening Existing Shared Memory Object refSlopes_meta\n",
      "Opening Existing Shared Memory Object wfc\n",
      "Opening Existing Shared Memory Object wfc_meta\n",
      "Opening Existing Shared Memory Object m2c\n",
      "Opening Existing Shared Memory Object m2c_meta\n",
      "Thread sendToHardware: Priority set to REALTIME\n",
      "Connecting to loop CMD server...\n",
      "Opening Existing Shared Memory Object wfc2D\n",
      "Opening Existing Shared Memory Object wfc2D_meta\n",
      "Opening Existing Shared Memory Object signal_meta\n",
      "Closing signal_meta\n",
      "Thread leakyIntegrator: Priority set to REALTIME\n",
      "Opening Existing Shared Memory Object signal\n",
      "Opening Existing Shared Memory Object signal_meta\n",
      "Opening Existing Shared Memory Object wfc_meta\n",
      "Closing wfc_meta\n",
      "Opening Existing Shared Memory Object wfc\n",
      "Opening Existing Shared Memory Object wfc_meta\n",
      "Opening Existing Shared Memory Object cmat\n",
      "Opening Existing Shared Memory Object cmat_meta\n",
      "Opening Existing Shared Memory Object loop\n",
      "Opening Existing Shared Memory Object loop_meta\n",
      "Opening Existing Shared Memory Object wfsInfo_meta\n",
      "Closing wfsInfo_meta\n",
      "Opening Existing Shared Memory Object wfsInfo\n",
      "Opening Existing Shared Memory Object wfsInfo_meta\n"
     ]
    }
   ],
   "source": [
    "conf = utils.read_yaml_file(\"config_felix.yaml\")\n",
    "wfs_conf = conf[\"wfs\"]\n",
    "slopes_conf = conf[\"slopes\"]\n",
    "dm_conf = conf[\"wfc\"]\n",
    "loop_conf = conf[\"loop\"]\n",
    "\n",
    "wfs = AndorWFS(wfs_conf)\n",
    "slopes = SlopesProcess(conf=slopes_conf)\n",
    "dm = ImakaDM(dm_conf)\n",
    "loop = Loop(loop_conf)"
   ]
  },
  {
   "cell_type": "code",
   "execution_count": 3,
   "id": "5490fe76-9535-4148-9221-a7f70c32185e",
   "metadata": {},
   "outputs": [],
   "source": [
    "wfs.start()\n",
    "slopes.start()\n",
    "dm.start()\n",
    "dm.flatten()\n",
    "\n",
    "loop.setGain(0.)\n",
    "loop.leakyGain = 0.0\n",
    "loop.start()"
   ]
  },
  {
   "cell_type": "code",
   "execution_count": 12,
   "id": "bafd1629-3f12-4ff7-a8b1-8079192e46b0",
   "metadata": {},
   "outputs": [],
   "source": [
    "wfs.setExposure(0.5)"
   ]
  },
  {
   "cell_type": "code",
   "execution_count": 13,
   "id": "2fabbab1-a44b-4ab8-96e8-9ab4c04d1ae4",
   "metadata": {},
   "outputs": [],
   "source": [
    "wfs.setRoi([64,64,92,160])"
   ]
  },
  {
   "cell_type": "code",
   "execution_count": 10,
   "id": "85bd8003-01e5-44d9-b391-ed41443bcb9e",
   "metadata": {},
   "outputs": [],
   "source": [
    "wfs.setRoi([64,64,253,512-64-238])"
   ]
  },
  {
   "cell_type": "code",
   "execution_count": 5,
   "id": "d816d08a-0370-4e92-a94b-1c1ee0d83cfb",
   "metadata": {},
   "outputs": [],
   "source": [
    "wfs.setExposure(0.007)"
   ]
  },
  {
   "cell_type": "code",
   "execution_count": 6,
   "id": "56ebf68b-d3f4-421f-8057-d09280363357",
   "metadata": {},
   "outputs": [],
   "source": [
    "wfs.closeShutter()"
   ]
  },
  {
   "cell_type": "code",
   "execution_count": 7,
   "id": "336c49b1-b9ae-4a16-b031-a1ef4bac707f",
   "metadata": {},
   "outputs": [],
   "source": [
    "wfs.darkCount = 200\n",
    "wfs.takeDark()"
   ]
  },
  {
   "cell_type": "code",
   "execution_count": 8,
   "id": "cc69b95a-a9bc-45ba-8479-4108d5ca5746",
   "metadata": {
    "scrolled": true
   },
   "outputs": [],
   "source": [
    "wfs.openShutter()"
   ]
  },
  {
   "cell_type": "markdown",
   "id": "9fc77056-72e3-4f3c-a642-a8e9ba5255b2",
   "metadata": {},
   "source": [
    "ref1"
   ]
  },
  {
   "cell_type": "code",
   "execution_count": 14,
   "id": "8a2e8aa8-8692-4aba-8058-fa855d18f2bd",
   "metadata": {},
   "outputs": [],
   "source": [
    "name = \"enif-7\""
   ]
  },
  {
   "cell_type": "code",
   "execution_count": 15,
   "id": "3ad36e11-5d21-4482-9905-523e44f21525",
   "metadata": {},
   "outputs": [],
   "source": [
    "slopes.refSlopeCount = 1000\n",
    "slopes.takeRefSlopes()\n",
    "slopes.saveRefSlopes(f\"/home/felix/src/pyrtc/pyRTC-IRTF/IRTF/data/20251004/refSlopes/{name}.npy\")"
   ]
  },
  {
   "cell_type": "code",
   "execution_count": 16,
   "id": "05a649eb-c3c5-419f-8eae-49420850cfd1",
   "metadata": {},
   "outputs": [],
   "source": [
    "slopes.loadRefSlopes(f\"/home/felix/src/pyrtc/pyRTC-IRTF/IRTF/data/20251004/refSlopes/{name}.npy\")"
   ]
  },
  {
   "cell_type": "code",
   "execution_count": 30,
   "id": "9f7f1139-fcfb-4c60-a10d-54c07319534f",
   "metadata": {},
   "outputs": [],
   "source": [
    "loop.setNumDroppedModes(0)"
   ]
  },
  {
   "cell_type": "code",
   "execution_count": 32,
   "id": "fa841501-b82b-4e94-862e-97c57386219e",
   "metadata": {},
   "outputs": [],
   "source": [
    "loop.setGain(0.)\n",
    "loop.leakyGain = 0.02"
   ]
  },
  {
   "cell_type": "code",
   "execution_count": 20,
   "id": "71445a63-a93d-47bf-806f-2a469357b6da",
   "metadata": {},
   "outputs": [],
   "source": [
    "loop.setGain(0.)\n",
    "loop.leakyGain = 0.02"
   ]
  },
  {
   "cell_type": "code",
   "execution_count": 32,
   "id": "c9066c0c-00be-4529-90d6-cd2cae70b889",
   "metadata": {},
   "outputs": [],
   "source": [
    "loop.stop()"
   ]
  },
  {
   "cell_type": "markdown",
   "id": "136ab6db-de78-4f87-8c0a-435a3de0acfc",
   "metadata": {},
   "source": [
    "ref2"
   ]
  },
  {
   "cell_type": "code",
   "execution_count": 23,
   "id": "8369f530-8275-4696-8fd2-3b7fdf2f1ff3",
   "metadata": {},
   "outputs": [],
   "source": [
    "name = \"x\""
   ]
  },
  {
   "cell_type": "code",
   "execution_count": 24,
   "id": "dd5d29e2-7362-4637-8e80-e2babf480751",
   "metadata": {},
   "outputs": [],
   "source": [
    "slopes.refSlopeCount = 1000\n",
    "slopes.takeRefSlopes()\n",
    "slopes.saveRefSlopes(f\"/home/felix/src/pyrtc/pyRTC-IRTF/IRTF/data/20251003/refSlopes/{name}.npy\")"
   ]
  },
  {
   "cell_type": "markdown",
   "id": "dec71931-c64e-4418-9e0d-b2e5fa5936b9",
   "metadata": {},
   "source": [
    "## Run loop"
   ]
  },
  {
   "cell_type": "code",
   "execution_count": 12,
   "id": "d626423a",
   "metadata": {},
   "outputs": [],
   "source": [
    "loop.stop()"
   ]
  },
  {
   "cell_type": "code",
   "execution_count": 19,
   "id": "266814ba-3702-4b58-8a1d-11413a35e8c5",
   "metadata": {},
   "outputs": [],
   "source": [
    "loop.stop()"
   ]
  },
  {
   "cell_type": "code",
   "execution_count": 18,
   "id": "81f0d001",
   "metadata": {},
   "outputs": [],
   "source": [
    "loop.setGain(0.)\n",
    "loop.leakyGain = 0.0\n",
    "loop.start()"
   ]
  },
  {
   "cell_type": "code",
   "execution_count": 31,
   "id": "0f915c5b-f019-42ac-a89e-88ebfc22009e",
   "metadata": {},
   "outputs": [],
   "source": [
    "loop.loadPlaybackBuffer(\"calib/pb/cacofoni_pb_95.2Hz_x476_nmodes7_amp1_fmin4_df0.2.npy\")"
   ]
  },
  {
   "cell_type": "code",
   "execution_count": 11,
   "id": "37183ac2",
   "metadata": {},
   "outputs": [],
   "source": [
    "dm.flatten()"
   ]
  },
  {
   "cell_type": "code",
   "execution_count": 78,
   "id": "aafaf9ee",
   "metadata": {},
   "outputs": [],
   "source": [
    "loop.pbGain = 0.0"
   ]
  },
  {
   "cell_type": "code",
   "execution_count": 27,
   "id": "7cce6ef1",
   "metadata": {},
   "outputs": [],
   "source": [
    "slopes.refSlopes *= 0"
   ]
  },
  {
   "cell_type": "code",
   "execution_count": 17,
   "id": "65d62d18-735e-4e92-ba97-c93eae4712b0",
   "metadata": {},
   "outputs": [],
   "source": [
    "slopes.refSlopeCount = 1000\n",
    "slopes.takeRefSlopes()\n",
    "slopes.saveRefSlopes(\"/home/felix/src/pyrtc/pyRTC-IRTF/IRTF/calib/felixcal/refSlopes_12x12_alcyone-1_offaxis.npy\")"
   ]
  },
  {
   "cell_type": "code",
   "execution_count": 36,
   "id": "2ab7febb-2d37-46b0-9bea-23df2093d6c8",
   "metadata": {},
   "outputs": [],
   "source": [
    "slopes.saveRefSlopes(\"/home/felix/src/pyrtc/pyRTC-IRTF/IRTF/calib/felixcal/refSlopes_FELIX_12x12closed.npy\")"
   ]
  },
  {
   "cell_type": "code",
   "execution_count": 15,
   "id": "5a01c793",
   "metadata": {},
   "outputs": [],
   "source": [
    "slopes.loadRefSlopes()#\"/home/felix/src/pyrtc/pyRTC-IRTF/IRTF/calib/felixcal/refSlopes_FELIX_12x12closed.npy\")"
   ]
  },
  {
   "cell_type": "code",
   "execution_count": 29,
   "id": "c8dcc36c",
   "metadata": {},
   "outputs": [],
   "source": [
    "wfs.slopeNoise = 0.\n",
    "wfs.amplitude = 20\n",
    "wfs.detectorNoise = 5\n",
    "wfs.lag = 200"
   ]
  },
  {
   "cell_type": "code",
   "execution_count": 42,
   "id": "bce66cc5-f0d8-410f-a498-73466a9983ac",
   "metadata": {},
   "outputs": [],
   "source": [
    "dm.flatten()"
   ]
  },
  {
   "cell_type": "code",
   "execution_count": 33,
   "id": "d073a7dd-8812-4575-89f4-9e53f9693764",
   "metadata": {},
   "outputs": [],
   "source": [
    "loop.numItersIM = 500\n",
    "loop.pokeAmp = 0.4"
   ]
  },
  {
   "cell_type": "code",
   "execution_count": 34,
   "id": "be6fdc57",
   "metadata": {},
   "outputs": [],
   "source": [
    "loop.IMMethod = 0#\"docrime\"\n",
    "loop.computeIM()\n",
    "dm.flatten()"
   ]
  },
  {
   "cell_type": "code",
   "execution_count": 19,
   "id": "7a095dec-a075-4bfa-b95c-684f3c7aad71",
   "metadata": {},
   "outputs": [],
   "source": [
    "loop.loadIM(\"calib/imat/imat.poke.20251002.c.npy\")"
   ]
  },
  {
   "cell_type": "code",
   "execution_count": 20,
   "id": "2118f254",
   "metadata": {},
   "outputs": [
    {
     "data": {
      "image/png": "[encoded data removed]",
      "text/plain": [
       "<Figure size 640x480 with 1 Axes>"
      ]
     },
     "metadata": {},
     "output_type": "display_data"
    }
   ],
   "source": [
    "loop.plotIM()"
   ]
  },
  {
   "cell_type": "code",
   "execution_count": 11,
   "id": "96985bd0",
   "metadata": {},
   "outputs": [],
   "source": [
    "loop.setNumDroppedModes(0)"
   ]
  },
  {
   "cell_type": "code",
   "execution_count": 47,
   "id": "c423a568-9d3d-4128-82c2-ffe282f59996",
   "metadata": {},
   "outputs": [],
   "source": [
    "wfs.setExposure(0.5)\n",
    "wfs.coadds = 1"
   ]
  },
  {
   "cell_type": "code",
   "execution_count": 38,
   "id": "f866c2a6-6669-4836-9db3-19d4ee3c33aa",
   "metadata": {},
   "outputs": [],
   "source": [
    "loop.stop()"
   ]
  },
  {
   "cell_type": "code",
   "execution_count": 32,
   "id": "d1aaaf19-4271-496d-87ff-277faec708d7",
   "metadata": {},
   "outputs": [],
   "source": [
    "dm.flatten()"
   ]
  },
  {
   "cell_type": "code",
   "execution_count": 16,
   "id": "07793606-4a14-43de-be34-8333a82f1004",
   "metadata": {},
   "outputs": [],
   "source": [
    "slopes.refSlopeCount = 1000\n",
    "slopes.takeRefSlopes()\n"
   ]
  },
  {
   "cell_type": "code",
   "execution_count": 15,
   "id": "b040f6ca-6346-47fc-ba50-0601b92a3c69",
   "metadata": {},
   "outputs": [],
   "source": [
    "loop.stop()"
   ]
  },
  {
   "cell_type": "code",
   "execution_count": 48,
   "id": "b34b6619",
   "metadata": {},
   "outputs": [],
   "source": [
    "loop.setGain(0.)\n",
    "loop.leakyGain = 0.02\n",
    "loop.start()"
   ]
  },
  {
   "cell_type": "code",
   "execution_count": 18,
   "id": "b22017fd",
   "metadata": {
    "collapsed": true,
    "jupyter": {
     "outputs_hidden": true
    }
   },
   "outputs": [
    {
     "ename": "FileNotFoundError",
     "evalue": "[Errno 2] No such file or directory: '/Users/ellenlee/Documents/pyRTC-IRTF/IRTF/calib/felixcal/masks_itp.fits'",
     "output_type": "error",
     "traceback": [
      "\u001b[0;31m---------------------------------------------------------------------------\u001b[0m",
      "\u001b[0;31mFileNotFoundError\u001b[0m                         Traceback (most recent call last)",
      "Cell \u001b[0;32mIn[18], line 1\u001b[0m\n\u001b[0;32m----> 1\u001b[0m \u001b[43mslopes\u001b[49m\u001b[38;5;241;43m.\u001b[39;49m\u001b[43mloadChopMasks\u001b[49m\u001b[43m(\u001b[49m\u001b[38;5;124;43m\"\u001b[39;49m\u001b[38;5;124;43m/Users/ellenlee/Documents/pyRTC-IRTF/IRTF/calib/felixcal/masks_itp.fits\u001b[39;49m\u001b[38;5;124;43m\"\u001b[39;49m\u001b[43m)\u001b[49m\n",
      "File \u001b[0;32m~/src/pyrtc/pyRTC-IRTF/pyRTC/SlopesProcess.py:967\u001b[0m, in \u001b[0;36mSlopesProcess.loadChopMasks\u001b[0;34m(self, filename)\u001b[0m\n\u001b[1;32m    965\u001b[0m     offsets \u001b[38;5;241m=\u001b[39m \u001b[38;5;28;01mNone\u001b[39;00m\n\u001b[1;32m    966\u001b[0m \u001b[38;5;28;01melse\u001b[39;00m: \u001b[38;5;66;03m#If we have a filename\u001b[39;00m\n\u001b[0;32m--> 967\u001b[0m     hdul \u001b[38;5;241m=\u001b[39m \u001b[43mfits\u001b[49m\u001b[38;5;241;43m.\u001b[39;49m\u001b[43mopen\u001b[49m\u001b[43m(\u001b[49m\u001b[43mfilename\u001b[49m\u001b[43m)\u001b[49m\n\u001b[1;32m    968\u001b[0m     chopMasks \u001b[38;5;241m=\u001b[39m hdul[\u001b[38;5;241m0\u001b[39m]\u001b[38;5;241m.\u001b[39mdata\n\u001b[1;32m    969\u001b[0m     offsets \u001b[38;5;241m=\u001b[39m hdul[\u001b[38;5;241m1\u001b[39m]\u001b[38;5;241m.\u001b[39mdata\n",
      "File \u001b[0;32m~/.local/lib/python3.9/site-packages/astropy/io/fits/hdu/hdulist.py:222\u001b[0m, in \u001b[0;36mfitsopen\u001b[0;34m(name, mode, memmap, save_backup, cache, lazy_load_hdus, ignore_missing_simple, use_fsspec, fsspec_kwargs, decompress_in_memory, **kwargs)\u001b[0m\n\u001b[1;32m    219\u001b[0m \u001b[38;5;28;01mif\u001b[39;00m \u001b[38;5;129;01mnot\u001b[39;00m name:\n\u001b[1;32m    220\u001b[0m     \u001b[38;5;28;01mraise\u001b[39;00m \u001b[38;5;167;01mValueError\u001b[39;00m(\u001b[38;5;124mf\u001b[39m\u001b[38;5;124m\"\u001b[39m\u001b[38;5;124mEmpty filename: \u001b[39m\u001b[38;5;132;01m{\u001b[39;00mname\u001b[38;5;132;01m!r}\u001b[39;00m\u001b[38;5;124m\"\u001b[39m)\n\u001b[0;32m--> 222\u001b[0m \u001b[38;5;28;01mreturn\u001b[39;00m \u001b[43mHDUList\u001b[49m\u001b[38;5;241;43m.\u001b[39;49m\u001b[43mfromfile\u001b[49m\u001b[43m(\u001b[49m\n\u001b[1;32m    223\u001b[0m \u001b[43m    \u001b[49m\u001b[43mname\u001b[49m\u001b[43m,\u001b[49m\n\u001b[1;32m    224\u001b[0m \u001b[43m    \u001b[49m\u001b[43mmode\u001b[49m\u001b[43m,\u001b[49m\n\u001b[1;32m    225\u001b[0m \u001b[43m    \u001b[49m\u001b[43mmemmap\u001b[49m\u001b[43m,\u001b[49m\n\u001b[1;32m    226\u001b[0m \u001b[43m    \u001b[49m\u001b[43msave_backup\u001b[49m\u001b[43m,\u001b[49m\n\u001b[1;32m    227\u001b[0m \u001b[43m    \u001b[49m\u001b[43mcache\u001b[49m\u001b[43m,\u001b[49m\n\u001b[1;32m    228\u001b[0m \u001b[43m    \u001b[49m\u001b[43mlazy_load_hdus\u001b[49m\u001b[43m,\u001b[49m\n\u001b[1;32m    229\u001b[0m \u001b[43m    \u001b[49m\u001b[43mignore_missing_simple\u001b[49m\u001b[43m,\u001b[49m\n\u001b[1;32m    230\u001b[0m \u001b[43m    \u001b[49m\u001b[43muse_fsspec\u001b[49m\u001b[38;5;241;43m=\u001b[39;49m\u001b[43muse_fsspec\u001b[49m\u001b[43m,\u001b[49m\n\u001b[1;32m    231\u001b[0m \u001b[43m    \u001b[49m\u001b[43mfsspec_kwargs\u001b[49m\u001b[38;5;241;43m=\u001b[39;49m\u001b[43mfsspec_kwargs\u001b[49m\u001b[43m,\u001b[49m\n\u001b[1;32m    232\u001b[0m \u001b[43m    \u001b[49m\u001b[43mdecompress_in_memory\u001b[49m\u001b[38;5;241;43m=\u001b[39;49m\u001b[43mdecompress_in_memory\u001b[49m\u001b[43m,\u001b[49m\n\u001b[1;32m    233\u001b[0m \u001b[43m    \u001b[49m\u001b[38;5;241;43m*\u001b[39;49m\u001b[38;5;241;43m*\u001b[39;49m\u001b[43mkwargs\u001b[49m\u001b[43m,\u001b[49m\n\u001b[1;32m    234\u001b[0m \u001b[43m\u001b[49m\u001b[43m)\u001b[49m\n",
      "File \u001b[0;32m~/.local/lib/python3.9/site-packages/astropy/io/fits/hdu/hdulist.py:486\u001b[0m, in \u001b[0;36mHDUList.fromfile\u001b[0;34m(cls, fileobj, mode, memmap, save_backup, cache, lazy_load_hdus, ignore_missing_simple, **kwargs)\u001b[0m\n\u001b[1;32m    467\u001b[0m \u001b[38;5;129m@classmethod\u001b[39m\n\u001b[1;32m    468\u001b[0m \u001b[38;5;28;01mdef\u001b[39;00m\u001b[38;5;250m \u001b[39m\u001b[38;5;21mfromfile\u001b[39m(\n\u001b[1;32m    469\u001b[0m     \u001b[38;5;28mcls\u001b[39m,\n\u001b[0;32m   (...)\u001b[0m\n\u001b[1;32m    477\u001b[0m     \u001b[38;5;241m*\u001b[39m\u001b[38;5;241m*\u001b[39mkwargs,\n\u001b[1;32m    478\u001b[0m ):\n\u001b[1;32m    479\u001b[0m \u001b[38;5;250m    \u001b[39m\u001b[38;5;124;03m\"\"\"\u001b[39;00m\n\u001b[1;32m    480\u001b[0m \u001b[38;5;124;03m    Creates an `HDUList` instance from a file-like object.\u001b[39;00m\n\u001b[1;32m    481\u001b[0m \n\u001b[0;32m   (...)\u001b[0m\n\u001b[1;32m    484\u001b[0m \u001b[38;5;124;03m    documentation for details of the parameters accepted by this method).\u001b[39;00m\n\u001b[1;32m    485\u001b[0m \u001b[38;5;124;03m    \"\"\"\u001b[39;00m\n\u001b[0;32m--> 486\u001b[0m     \u001b[38;5;28;01mreturn\u001b[39;00m \u001b[38;5;28;43mcls\u001b[39;49m\u001b[38;5;241;43m.\u001b[39;49m\u001b[43m_readfrom\u001b[49m\u001b[43m(\u001b[49m\n\u001b[1;32m    487\u001b[0m \u001b[43m        \u001b[49m\u001b[43mfileobj\u001b[49m\u001b[38;5;241;43m=\u001b[39;49m\u001b[43mfileobj\u001b[49m\u001b[43m,\u001b[49m\n\u001b[1;32m    488\u001b[0m \u001b[43m        \u001b[49m\u001b[43mmode\u001b[49m\u001b[38;5;241;43m=\u001b[39;49m\u001b[43mmode\u001b[49m\u001b[43m,\u001b[49m\n\u001b[1;32m    489\u001b[0m \u001b[43m        \u001b[49m\u001b[43mmemmap\u001b[49m\u001b[38;5;241;43m=\u001b[39;49m\u001b[43mmemmap\u001b[49m\u001b[43m,\u001b[49m\n\u001b[1;32m    490\u001b[0m \u001b[43m        \u001b[49m\u001b[43msave_backup\u001b[49m\u001b[38;5;241;43m=\u001b[39;49m\u001b[43msave_backup\u001b[49m\u001b[43m,\u001b[49m\n\u001b[1;32m    491\u001b[0m \u001b[43m        \u001b[49m\u001b[43mcache\u001b[49m\u001b[38;5;241;43m=\u001b[39;49m\u001b[43mcache\u001b[49m\u001b[43m,\u001b[49m\n\u001b[1;32m    492\u001b[0m \u001b[43m        \u001b[49m\u001b[43mignore_missing_simple\u001b[49m\u001b[38;5;241;43m=\u001b[39;49m\u001b[43mignore_missing_simple\u001b[49m\u001b[43m,\u001b[49m\n\u001b[1;32m    493\u001b[0m \u001b[43m        \u001b[49m\u001b[43mlazy_load_hdus\u001b[49m\u001b[38;5;241;43m=\u001b[39;49m\u001b[43mlazy_load_hdus\u001b[49m\u001b[43m,\u001b[49m\n\u001b[1;32m    494\u001b[0m \u001b[43m        \u001b[49m\u001b[38;5;241;43m*\u001b[39;49m\u001b[38;5;241;43m*\u001b[39;49m\u001b[43mkwargs\u001b[49m\u001b[43m,\u001b[49m\n\u001b[1;32m    495\u001b[0m \u001b[43m    \u001b[49m\u001b[43m)\u001b[49m\n",
      "File \u001b[0;32m~/.local/lib/python3.9/site-packages/astropy/io/fits/hdu/hdulist.py:1169\u001b[0m, in \u001b[0;36mHDUList._readfrom\u001b[0;34m(cls, fileobj, data, mode, memmap, cache, lazy_load_hdus, ignore_missing_simple, use_fsspec, fsspec_kwargs, decompress_in_memory, **kwargs)\u001b[0m\n\u001b[1;32m   1166\u001b[0m \u001b[38;5;28;01mif\u001b[39;00m fileobj \u001b[38;5;129;01mis\u001b[39;00m \u001b[38;5;129;01mnot\u001b[39;00m \u001b[38;5;28;01mNone\u001b[39;00m:\n\u001b[1;32m   1167\u001b[0m     \u001b[38;5;28;01mif\u001b[39;00m \u001b[38;5;129;01mnot\u001b[39;00m \u001b[38;5;28misinstance\u001b[39m(fileobj, _File):\n\u001b[1;32m   1168\u001b[0m         \u001b[38;5;66;03m# instantiate a FITS file object (ffo)\u001b[39;00m\n\u001b[0;32m-> 1169\u001b[0m         fileobj \u001b[38;5;241m=\u001b[39m \u001b[43m_File\u001b[49m\u001b[43m(\u001b[49m\n\u001b[1;32m   1170\u001b[0m \u001b[43m            \u001b[49m\u001b[43mfileobj\u001b[49m\u001b[43m,\u001b[49m\n\u001b[1;32m   1171\u001b[0m \u001b[43m            \u001b[49m\u001b[43mmode\u001b[49m\u001b[38;5;241;43m=\u001b[39;49m\u001b[43mmode\u001b[49m\u001b[43m,\u001b[49m\n\u001b[1;32m   1172\u001b[0m \u001b[43m            \u001b[49m\u001b[43mmemmap\u001b[49m\u001b[38;5;241;43m=\u001b[39;49m\u001b[43mmemmap\u001b[49m\u001b[43m,\u001b[49m\n\u001b[1;32m   1173\u001b[0m \u001b[43m            \u001b[49m\u001b[43mcache\u001b[49m\u001b[38;5;241;43m=\u001b[39;49m\u001b[43mcache\u001b[49m\u001b[43m,\u001b[49m\n\u001b[1;32m   1174\u001b[0m \u001b[43m            \u001b[49m\u001b[43muse_fsspec\u001b[49m\u001b[38;5;241;43m=\u001b[39;49m\u001b[43muse_fsspec\u001b[49m\u001b[43m,\u001b[49m\n\u001b[1;32m   1175\u001b[0m \u001b[43m            \u001b[49m\u001b[43mfsspec_kwargs\u001b[49m\u001b[38;5;241;43m=\u001b[39;49m\u001b[43mfsspec_kwargs\u001b[49m\u001b[43m,\u001b[49m\n\u001b[1;32m   1176\u001b[0m \u001b[43m            \u001b[49m\u001b[43mdecompress_in_memory\u001b[49m\u001b[38;5;241;43m=\u001b[39;49m\u001b[43mdecompress_in_memory\u001b[49m\u001b[43m,\u001b[49m\n\u001b[1;32m   1177\u001b[0m \u001b[43m        \u001b[49m\u001b[43m)\u001b[49m\n\u001b[1;32m   1178\u001b[0m     \u001b[38;5;66;03m# The Astropy mode is determined by the _File initializer if the\u001b[39;00m\n\u001b[1;32m   1179\u001b[0m     \u001b[38;5;66;03m# supplied mode was None\u001b[39;00m\n\u001b[1;32m   1180\u001b[0m     mode \u001b[38;5;241m=\u001b[39m fileobj\u001b[38;5;241m.\u001b[39mmode\n",
      "File \u001b[0;32m~/.local/lib/python3.9/site-packages/astropy/io/fits/file.py:218\u001b[0m, in \u001b[0;36m_File.__init__\u001b[0;34m(self, fileobj, mode, memmap, overwrite, cache, use_fsspec, fsspec_kwargs, decompress_in_memory)\u001b[0m\n\u001b[1;32m    216\u001b[0m     \u001b[38;5;28mself\u001b[39m\u001b[38;5;241m.\u001b[39m_open_fileobj(fileobj, mode, overwrite)\n\u001b[1;32m    217\u001b[0m \u001b[38;5;28;01melif\u001b[39;00m \u001b[38;5;28misinstance\u001b[39m(fileobj, (\u001b[38;5;28mstr\u001b[39m, \u001b[38;5;28mbytes\u001b[39m)):\n\u001b[0;32m--> 218\u001b[0m     \u001b[38;5;28;43mself\u001b[39;49m\u001b[38;5;241;43m.\u001b[39;49m\u001b[43m_open_filename\u001b[49m\u001b[43m(\u001b[49m\u001b[43mfileobj\u001b[49m\u001b[43m,\u001b[49m\u001b[43m \u001b[49m\u001b[43mmode\u001b[49m\u001b[43m,\u001b[49m\u001b[43m \u001b[49m\u001b[43moverwrite\u001b[49m\u001b[43m)\u001b[49m\n\u001b[1;32m    219\u001b[0m \u001b[38;5;28;01melse\u001b[39;00m:\n\u001b[1;32m    220\u001b[0m     \u001b[38;5;28mself\u001b[39m\u001b[38;5;241m.\u001b[39m_open_filelike(fileobj, mode, overwrite)\n",
      "File \u001b[0;32m~/.local/lib/python3.9/site-packages/astropy/io/fits/file.py:641\u001b[0m, in \u001b[0;36m_File._open_filename\u001b[0;34m(self, filename, mode, overwrite)\u001b[0m\n\u001b[1;32m    638\u001b[0m ext \u001b[38;5;241m=\u001b[39m os\u001b[38;5;241m.\u001b[39mpath\u001b[38;5;241m.\u001b[39msplitext(\u001b[38;5;28mself\u001b[39m\u001b[38;5;241m.\u001b[39mname)[\u001b[38;5;241m1\u001b[39m]\n\u001b[1;32m    640\u001b[0m \u001b[38;5;28;01mif\u001b[39;00m \u001b[38;5;129;01mnot\u001b[39;00m \u001b[38;5;28mself\u001b[39m\u001b[38;5;241m.\u001b[39m_try_read_compressed(\u001b[38;5;28mself\u001b[39m\u001b[38;5;241m.\u001b[39mname, magic, mode, ext\u001b[38;5;241m=\u001b[39mext):\n\u001b[0;32m--> 641\u001b[0m     \u001b[38;5;28mself\u001b[39m\u001b[38;5;241m.\u001b[39m_file \u001b[38;5;241m=\u001b[39m \u001b[38;5;28;43mopen\u001b[39;49m\u001b[43m(\u001b[49m\u001b[38;5;28;43mself\u001b[39;49m\u001b[38;5;241;43m.\u001b[39;49m\u001b[43mname\u001b[49m\u001b[43m,\u001b[49m\u001b[43m \u001b[49m\u001b[43mIO_FITS_MODES\u001b[49m\u001b[43m[\u001b[49m\u001b[43mmode\u001b[49m\u001b[43m]\u001b[49m\u001b[43m)\u001b[49m\n\u001b[1;32m    642\u001b[0m     \u001b[38;5;28mself\u001b[39m\u001b[38;5;241m.\u001b[39mclose_on_error \u001b[38;5;241m=\u001b[39m \u001b[38;5;28;01mTrue\u001b[39;00m\n\u001b[1;32m    644\u001b[0m \u001b[38;5;66;03m# Make certain we're back at the beginning of the file\u001b[39;00m\n\u001b[1;32m    645\u001b[0m \u001b[38;5;66;03m# BZ2File does not support seek when the file is open for writing, but\u001b[39;00m\n\u001b[1;32m    646\u001b[0m \u001b[38;5;66;03m# when opening a file for write, bz2.BZ2File always truncates anyway.\u001b[39;00m\n",
      "\u001b[0;31mFileNotFoundError\u001b[0m: [Errno 2] No such file or directory: '/Users/ellenlee/Documents/pyRTC-IRTF/IRTF/calib/felixcal/masks_itp.fits'"
     ]
    }
   ],
   "source": [
    "slopes.loadChopMasks(\"/Users/ellenlee/Documents/pyRTC-IRTF/IRTF/calib/felixcal/masks_itp.fits\")"
   ]
  },
  {
   "cell_type": "code",
   "execution_count": 25,
   "id": "57cd004d",
   "metadata": {},
   "outputs": [],
   "source": [
    "dm.flatten()\n",
    "slopes.loadSubApMasks()\n",
    "slopes.loadChopMasks()"
   ]
  },
  {
   "cell_type": "code",
   "execution_count": 46,
   "id": "f3c7b3e0",
   "metadata": {},
   "outputs": [],
   "source": [
    "slopes.chopSubApsToPosition(\"BA\",5)"
   ]
  },
  {
   "cell_type": "code",
   "execution_count": 21,
   "id": "341dd36f-d570-45fa-9ca1-fa23664a969d",
   "metadata": {},
   "outputs": [],
   "source": [
    "loop.setGain(0.)\n",
    "loop.leakyGain = 0.02\n",
    "loop.start()"
   ]
  },
  {
   "cell_type": "code",
   "execution_count": 28,
   "id": "1528fed0",
   "metadata": {},
   "outputs": [],
   "source": [
    "slopes.chopSubaps(freq=2,rampFraction=0.4,numIter=2)"
   ]
  },
  {
   "cell_type": "code",
   "execution_count": 109,
   "id": "add663bb-9333-48c4-8e33-7e2d152260cf",
   "metadata": {},
   "outputs": [],
   "source": [
    "wfs.rotation=50"
   ]
  },
  {
   "cell_type": "code",
   "execution_count": 57,
   "id": "39cf1cfd-b81d-48ba-bae7-f8b4150ca413",
   "metadata": {},
   "outputs": [],
   "source": [
    "slopes.loadRefSlopes()"
   ]
  },
  {
   "cell_type": "code",
   "execution_count": 47,
   "id": "f7c808a6-0c3b-4bb0-a4db-a510e222a3fa",
   "metadata": {},
   "outputs": [],
   "source": [
    "wfs.setExposure(0.5)\n",
    "wfs.coadds = 1"
   ]
  },
  {
   "cell_type": "code",
   "execution_count": 76,
   "id": "e83667aa-63d0-4af5-83fc-cec96acb0437",
   "metadata": {},
   "outputs": [],
   "source": [
    "slopes.loadRefSlopes()\n",
    "#coeffs = np.array([0,0,0,0,0,0,0])\n",
    "#coeffs = np.array([0,0,-0.1, 0.2,0.1, 0,-0.2])\n",
    "coeffs = np.array([0,0,-0.1, 0.2,0.1, 0.1,-0.3])\n",
    "#coeffs = np.array([0,0,0, 0,0, 0,0])\n",
    "slopes.refSlopes += np.reshape(loop.IM @ coeffs, (4,2))"
   ]
  },
  {
   "cell_type": "code",
   "execution_count": 26,
   "id": "c4f34bf1-99ce-4aa4-a081-43401e7b9d81",
   "metadata": {},
   "outputs": [],
   "source": [
    "coeffs = np.zeros(7)\n",
    "coeffs[4] = 0.\n",
    "dm.write(coeffs)\n",
    "dm.sendToHardware()"
   ]
  },
  {
   "cell_type": "code",
   "execution_count": 52,
   "id": "0701f75a",
   "metadata": {},
   "outputs": [],
   "source": [
    "loop.stop()\n",
    "\n",
    "coeffs = np.random.normal(0, 0.1, 7)\n",
    "coeffs[7:] = 0\n",
    "\n",
    "#coeffs = np.zeros(36)\n",
    "#coeffs[0] = 0.02\n",
    "dm.write(coeffs)\n",
    "dm.sendToHardware()"
   ]
  },
  {
   "cell_type": "code",
   "execution_count": 27,
   "id": "3b335c18-dbb2-41d4-a319-b0dc24d946c5",
   "metadata": {},
   "outputs": [],
   "source": [
    "slopes.refSlopes *= 0"
   ]
  },
  {
   "cell_type": "code",
   "execution_count": 12,
   "id": "6dfc4f78",
   "metadata": {},
   "outputs": [],
   "source": [
    "slopes.loadRefSlopes(\"calib/felixcal/calpts_32_r0_12x12closed.npy\")"
   ]
  },
  {
   "cell_type": "code",
   "execution_count": 24,
   "id": "c950c676",
   "metadata": {},
   "outputs": [],
   "source": [
    "theor = fits.getdata(\"calib/slopesXandY.fits\")\n",
    "theor = theor.reshape(35, 8)\n",
    "theor = theor[:7]"
   ]
  },
  {
   "cell_type": "code",
   "execution_count": 25,
   "id": "7506950c-0090-4b8f-bcee-50458afff84c",
   "metadata": {},
   "outputs": [
    {
     "data": {
      "text/plain": [
       "(7, 8)"
      ]
     },
     "execution_count": 25,
     "metadata": {},
     "output_type": "execute_result"
    }
   ],
   "source": [
    "theor.shape"
   ]
  },
  {
   "cell_type": "code",
   "execution_count": null,
   "id": "f41056a6-de1f-4aa2-8466-7ec1da1282f6",
   "metadata": {},
   "outputs": [],
   "source": []
  }
 ],
 "metadata": {
  "kernelspec": {
   "display_name": "Python 3 (ipykernel)",
   "language": "python",
   "name": "python3"
  },
  "language_info": {
   "codemirror_mode": {
    "name": "ipython",
    "version": 3
   },
   "file_extension": ".py",
   "mimetype": "text/x-python",
   "name": "python",
   "nbconvert_exporter": "python",
   "pygments_lexer": "ipython3",
   "version": "3.9.20"
  }
 },
 "nbformat": 4,
 "nbformat_minor": 5
}
