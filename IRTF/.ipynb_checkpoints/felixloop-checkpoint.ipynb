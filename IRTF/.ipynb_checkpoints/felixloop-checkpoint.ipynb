{
 "cells": [
  {
   "cell_type": "code",
   "execution_count": 1,
   "id": "18682fe9-0290-438f-bbb6-d16dfb9d3d4b",
   "metadata": {},
   "outputs": [],
   "source": [
    "import numpy as np\n",
    "import matplotlib.pyplot as plt\n",
    "from pyAndorSDK2 import atmcd, atmcd_codes"
   ]
  },
  {
   "cell_type": "code",
   "execution_count": 2,
   "id": "ea84e466-92a8-454a-883c-1df1b1a66a0b",
   "metadata": {},
   "outputs": [
    {
     "data": {
      "text/plain": [
       "20002"
      ]
     },
     "execution_count": 2,
     "metadata": {},
     "output_type": "execute_result"
    }
   ],
   "source": [
    "sdk = atmcd()\n",
    "sdk.Initialize(\"/usr/local/etc/andor\")"
   ]
  },
  {
   "cell_type": "code",
   "execution_count": 2,
   "id": "c308ba58-5022-426a-ab11-ae9264c63b02",
   "metadata": {},
   "outputs": [
    {
     "name": "stdout",
     "output_type": "stream",
     "text": [
      "Spinnaker python SDK installation not found\n",
      "Spinnaker python SDK installation not found\n",
      "ximea python SDK installation not found\n",
      "PI python SDK installation not found\n"
     ]
    }
   ],
   "source": [
    "import numpy as np\n",
    "import matplotlib.pyplot as plt\n",
    "\n",
    "\n",
    "import pyRTC.utils as utils\n",
    "from pyRTC import *\n",
    "from astropy.io import fits"
   ]
  },
  {
   "cell_type": "code",
   "execution_count": 3,
   "id": "870d2e91-906d-4588-9bc2-75ec87ccbd03",
   "metadata": {
    "collapsed": true,
    "jupyter": {
     "outputs_hidden": true
    },
    "scrolled": true
   },
   "outputs": [
    {
     "name": "stdout",
     "output_type": "stream",
     "text": [
      "Opening Existing Shared Memory Object wfs\n",
      "Opening Existing Shared Memory Object wfs_meta\n",
      "Opening Existing Shared Memory Object wfs_meta\n",
      "Closing wfs\n",
      "Creating New Shared Memory Object wfs_gpu_handle\n",
      "Opening Existing Shared Memory Object wfs_gpu_handle_meta\n",
      "Closing wfs_meta\n",
      "Opening Existing Shared Memory Object wfsRaw\n",
      "Opening Existing Shared Memory Object wfsRaw_meta\n",
      "Closing wfs_gpu_handle\n",
      "Opening Existing Shared Memory Object wfsRaw_meta\n",
      "Closing wfsRaw\n",
      "Creating New Shared Memory Object wfsRaw_gpu_handle\n",
      "Opening Existing Shared Memory Object wfsRaw_gpu_handle_meta\n",
      "Closing wfsRaw_meta\n",
      "Creating New Shared Memory Object wfc\n",
      "Creating New Shared Memory Object wfc_meta\n",
      "Closing wfsRaw_gpu_handle\n",
      "Opening Existing Shared Memory Object wfc_meta\n",
      "Closing wfc\n",
      "Creating New Shared Memory Object wfc_gpu_handle\n",
      "Opening Existing Shared Memory Object wfc_gpu_handle_meta\n",
      "Closing wfc_meta\n",
      "Creating New Shared Memory Object wfc2D\n",
      "Creating New Shared Memory Object wfc2D_meta\n",
      "Closing wfc_gpu_handle\n",
      "Opening Existing Shared Memory Object wfc2D_meta\n",
      "Closing wfc2D\n",
      "Creating New Shared Memory Object wfc2D_gpu_handle\n",
      "Opening Existing Shared Memory Object wfc2D_gpu_handle_meta\n",
      "Closing wfc2D_meta\n",
      "Creating New Shared Memory Object wfcShape\n",
      "Creating New Shared Memory Object wfcShape_meta\n",
      "Closing wfc2D_gpu_handle\n",
      "Opening Existing Shared Memory Object wfcShape_meta\n",
      "Closing wfcShape\n",
      "Creating New Shared Memory Object wfcShape_gpu_handle\n",
      "Opening Existing Shared Memory Object wfcShape_gpu_handle_meta\n",
      "Closing wfcShape_meta\n",
      "Creating New Shared Memory Object signal\n",
      "Creating New Shared Memory Object signal_meta\n",
      "Closing wfcShape_gpu_handle\n",
      "Opening Existing Shared Memory Object signal_meta\n",
      "Closing signal\n",
      "Creating New Shared Memory Object signal_gpu_handle\n",
      "Opening Existing Shared Memory Object signal_gpu_handle_meta\n",
      "Closing signal_meta\n",
      "Creating New Shared Memory Object signal2D\n",
      "Creating New Shared Memory Object signal2D_meta\n",
      "Closing signal_gpu_handle\n",
      "Opening Existing Shared Memory Object signal2D_meta\n",
      "Closing signal2D\n",
      "Creating New Shared Memory Object signal2D_gpu_handle\n",
      "Opening Existing Shared Memory Object signal2D_gpu_handle_meta\n",
      "Closing signal2D_meta\n",
      "Creating New Shared Memory Object psfShort\n",
      "Creating New Shared Memory Object psfShort_meta\n",
      "Closing signal2D_gpu_handle\n",
      "Opening Existing Shared Memory Object psfShort_meta\n",
      "Closing psfShort\n",
      "Creating New Shared Memory Object psfShort_gpu_handle\n",
      "Opening Existing Shared Memory Object psfShort_gpu_handle_meta\n",
      "Closing psfShort_meta\n",
      "Creating New Shared Memory Object psfLong\n",
      "Creating New Shared Memory Object psfLong_meta\n",
      "Closing psfShort_gpu_handle\n",
      "Opening Existing Shared Memory Object psfLong_meta\n",
      "Closing psfLong\n",
      "Creating New Shared Memory Object psfLong_gpu_handle\n",
      "Opening Existing Shared Memory Object psfLong_gpu_handle_meta\n",
      "Closing psfLong_meta\n",
      "Opening Existing Shared Memory Object wfsInfo\n",
      "Opening Existing Shared Memory Object wfsInfo_meta\n",
      "Closing psfLong_gpu_handle\n",
      "Opening Existing Shared Memory Object wfsInfo_meta\n",
      "Closing wfsInfo\n",
      "Creating New Shared Memory Object wfsInfo_gpu_handle\n",
      "Opening Existing Shared Memory Object wfsInfo_gpu_handle_meta\n",
      "Closing wfsInfo_meta\n",
      "Creating New Shared Memory Object loop\n",
      "Creating New Shared Memory Object loop_meta\n",
      "Closing wfsInfo_gpu_handle\n",
      "Opening Existing Shared Memory Object loop_meta\n",
      "Closing loop\n",
      "Creating New Shared Memory Object loop_gpu_handle\n",
      "Opening Existing Shared Memory Object loop_gpu_handle_meta\n",
      "Closing loop_meta\n",
      "Creating New Shared Memory Object refSlopes\n",
      "Creating New Shared Memory Object refSlopes_meta\n",
      "Closing loop_gpu_handle\n",
      "Opening Existing Shared Memory Object refSlopes_meta\n",
      "Closing refSlopes\n",
      "Creating New Shared Memory Object refSlopes_gpu_handle\n",
      "Opening Existing Shared Memory Object refSlopes_gpu_handle_meta\n",
      "Closing refSlopes_meta\n",
      "Creating New Shared Memory Object subApMasks\n",
      "Creating New Shared Memory Object subApMasks_meta\n",
      "Closing refSlopes_gpu_handle\n",
      "Opening Existing Shared Memory Object subApMasks_meta\n",
      "Closing subApMasks\n",
      "Creating New Shared Memory Object subApMasks_gpu_handle\n",
      "Opening Existing Shared Memory Object subApMasks_gpu_handle_meta\n",
      "Closing subApMasks_meta\n",
      "Creating New Shared Memory Object cmat\n",
      "Creating New Shared Memory Object cmat_meta\n",
      "Closing subApMasks_gpu_handle\n",
      "Opening Existing Shared Memory Object cmat_meta\n",
      "Closing cmat\n",
      "Creating New Shared Memory Object cmat_gpu_handle\n",
      "Opening Existing Shared Memory Object cmat_gpu_handle_meta\n",
      "Closing cmat_meta\n",
      "Creating New Shared Memory Object m2c\n",
      "Creating New Shared Memory Object m2c_meta\n",
      "Closing cmat_gpu_handle\n",
      "Opening Existing Shared Memory Object m2c_meta\n",
      "Closing m2c\n",
      "Creating New Shared Memory Object m2c_gpu_handle\n",
      "Opening Existing Shared Memory Object m2c_gpu_handle_meta\n",
      "Closing m2c_meta\n",
      "Closing m2c_gpu_handle\n"
     ]
    },
    {
     "name": "stderr",
     "output_type": "stream",
     "text": [
      "Traceback (most recent call last):\n",
      "  File \"/usr/lib64/python3.9/multiprocessing/resource_tracker.py\", line 201, in main\n",
      "    cache[rtype].remove(name)\n",
      "KeyError: '/wfs'\n",
      "Traceback (most recent call last):\n",
      "  File \"/usr/lib64/python3.9/multiprocessing/resource_tracker.py\", line 201, in main\n",
      "    cache[rtype].remove(name)\n",
      "KeyError: '/wfs_meta'\n",
      "Traceback (most recent call last):\n",
      "  File \"/usr/lib64/python3.9/multiprocessing/resource_tracker.py\", line 201, in main\n",
      "    cache[rtype].remove(name)\n",
      "KeyError: '/wfs_gpu_handle'\n",
      "Traceback (most recent call last):\n",
      "  File \"/usr/lib64/python3.9/multiprocessing/resource_tracker.py\", line 201, in main\n",
      "    cache[rtype].remove(name)\n",
      "KeyError: '/wfsRaw'\n",
      "Traceback (most recent call last):\n",
      "  File \"/usr/lib64/python3.9/multiprocessing/resource_tracker.py\", line 201, in main\n",
      "    cache[rtype].remove(name)\n",
      "KeyError: '/wfsRaw_meta'\n",
      "Traceback (most recent call last):\n",
      "  File \"/usr/lib64/python3.9/multiprocessing/resource_tracker.py\", line 201, in main\n",
      "    cache[rtype].remove(name)\n",
      "KeyError: '/wfsRaw_gpu_handle'\n",
      "Traceback (most recent call last):\n",
      "  File \"/usr/lib64/python3.9/multiprocessing/resource_tracker.py\", line 201, in main\n",
      "    cache[rtype].remove(name)\n",
      "KeyError: '/wfc'\n",
      "Traceback (most recent call last):\n",
      "  File \"/usr/lib64/python3.9/multiprocessing/resource_tracker.py\", line 201, in main\n",
      "    cache[rtype].remove(name)\n",
      "KeyError: '/wfc_meta'\n",
      "Traceback (most recent call last):\n",
      "  File \"/usr/lib64/python3.9/multiprocessing/resource_tracker.py\", line 201, in main\n",
      "    cache[rtype].remove(name)\n",
      "KeyError: '/wfc_gpu_handle'\n",
      "Traceback (most recent call last):\n",
      "  File \"/usr/lib64/python3.9/multiprocessing/resource_tracker.py\", line 201, in main\n",
      "    cache[rtype].remove(name)\n",
      "KeyError: '/wfc2D'\n",
      "Traceback (most recent call last):\n",
      "  File \"/usr/lib64/python3.9/multiprocessing/resource_tracker.py\", line 201, in main\n",
      "    cache[rtype].remove(name)\n",
      "KeyError: '/wfc2D_meta'\n",
      "Traceback (most recent call last):\n",
      "  File \"/usr/lib64/python3.9/multiprocessing/resource_tracker.py\", line 201, in main\n",
      "    cache[rtype].remove(name)\n",
      "KeyError: '/wfc2D_gpu_handle'\n",
      "Traceback (most recent call last):\n",
      "  File \"/usr/lib64/python3.9/multiprocessing/resource_tracker.py\", line 201, in main\n",
      "    cache[rtype].remove(name)\n",
      "KeyError: '/wfcShape'\n",
      "Traceback (most recent call last):\n",
      "  File \"/usr/lib64/python3.9/multiprocessing/resource_tracker.py\", line 201, in main\n",
      "    cache[rtype].remove(name)\n",
      "KeyError: '/wfcShape_meta'\n",
      "Traceback (most recent call last):\n",
      "  File \"/usr/lib64/python3.9/multiprocessing/resource_tracker.py\", line 201, in main\n",
      "    cache[rtype].remove(name)\n",
      "KeyError: '/wfcShape_gpu_handle'\n",
      "Traceback (most recent call last):\n",
      "  File \"/usr/lib64/python3.9/multiprocessing/resource_tracker.py\", line 201, in main\n",
      "    cache[rtype].remove(name)\n",
      "KeyError: '/signal'\n",
      "Traceback (most recent call last):\n",
      "  File \"/usr/lib64/python3.9/multiprocessing/resource_tracker.py\", line 201, in main\n",
      "    cache[rtype].remove(name)\n",
      "KeyError: '/signal_meta'\n",
      "Traceback (most recent call last):\n",
      "  File \"/usr/lib64/python3.9/multiprocessing/resource_tracker.py\", line 201, in main\n",
      "    cache[rtype].remove(name)\n",
      "KeyError: '/signal_gpu_handle'\n",
      "Traceback (most recent call last):\n",
      "  File \"/usr/lib64/python3.9/multiprocessing/resource_tracker.py\", line 201, in main\n",
      "    cache[rtype].remove(name)\n",
      "KeyError: '/signal2D'\n",
      "Traceback (most recent call last):\n",
      "  File \"/usr/lib64/python3.9/multiprocessing/resource_tracker.py\", line 201, in main\n",
      "    cache[rtype].remove(name)\n",
      "KeyError: '/signal2D_meta'\n",
      "Traceback (most recent call last):\n",
      "  File \"/usr/lib64/python3.9/multiprocessing/resource_tracker.py\", line 201, in main\n",
      "    cache[rtype].remove(name)\n",
      "KeyError: '/signal2D_gpu_handle'\n",
      "Traceback (most recent call last):\n",
      "  File \"/usr/lib64/python3.9/multiprocessing/resource_tracker.py\", line 201, in main\n",
      "    cache[rtype].remove(name)\n",
      "KeyError: '/psfShort'\n",
      "Traceback (most recent call last):\n",
      "  File \"/usr/lib64/python3.9/multiprocessing/resource_tracker.py\", line 201, in main\n",
      "    cache[rtype].remove(name)\n",
      "KeyError: '/psfShort_meta'\n",
      "Traceback (most recent call last):\n",
      "  File \"/usr/lib64/python3.9/multiprocessing/resource_tracker.py\", line 201, in main\n",
      "    cache[rtype].remove(name)\n",
      "KeyError: '/psfShort_gpu_handle'\n",
      "Traceback (most recent call last):\n",
      "  File \"/usr/lib64/python3.9/multiprocessing/resource_tracker.py\", line 201, in main\n",
      "    cache[rtype].remove(name)\n",
      "KeyError: '/psfLong'\n",
      "Traceback (most recent call last):\n",
      "  File \"/usr/lib64/python3.9/multiprocessing/resource_tracker.py\", line 201, in main\n",
      "    cache[rtype].remove(name)\n",
      "KeyError: '/psfLong_meta'\n",
      "Traceback (most recent call last):\n",
      "  File \"/usr/lib64/python3.9/multiprocessing/resource_tracker.py\", line 201, in main\n",
      "    cache[rtype].remove(name)\n",
      "KeyError: '/psfLong_gpu_handle'\n",
      "Traceback (most recent call last):\n",
      "  File \"/usr/lib64/python3.9/multiprocessing/resource_tracker.py\", line 201, in main\n",
      "    cache[rtype].remove(name)\n",
      "KeyError: '/wfsInfo'\n",
      "Traceback (most recent call last):\n",
      "  File \"/usr/lib64/python3.9/multiprocessing/resource_tracker.py\", line 201, in main\n",
      "    cache[rtype].remove(name)\n",
      "KeyError: '/wfsInfo_meta'\n",
      "Traceback (most recent call last):\n",
      "  File \"/usr/lib64/python3.9/multiprocessing/resource_tracker.py\", line 201, in main\n",
      "    cache[rtype].remove(name)\n",
      "KeyError: '/wfsInfo_gpu_handle'\n",
      "Traceback (most recent call last):\n",
      "  File \"/usr/lib64/python3.9/multiprocessing/resource_tracker.py\", line 201, in main\n",
      "    cache[rtype].remove(name)\n",
      "KeyError: '/loop'\n",
      "Traceback (most recent call last):\n",
      "  File \"/usr/lib64/python3.9/multiprocessing/resource_tracker.py\", line 201, in main\n",
      "    cache[rtype].remove(name)\n",
      "KeyError: '/loop_meta'\n",
      "Traceback (most recent call last):\n",
      "  File \"/usr/lib64/python3.9/multiprocessing/resource_tracker.py\", line 201, in main\n",
      "    cache[rtype].remove(name)\n",
      "KeyError: '/loop_gpu_handle'\n",
      "Traceback (most recent call last):\n",
      "  File \"/usr/lib64/python3.9/multiprocessing/resource_tracker.py\", line 201, in main\n",
      "    cache[rtype].remove(name)\n",
      "KeyError: '/refSlopes'\n",
      "Traceback (most recent call last):\n",
      "  File \"/usr/lib64/python3.9/multiprocessing/resource_tracker.py\", line 201, in main\n",
      "    cache[rtype].remove(name)\n",
      "KeyError: '/refSlopes_meta'\n",
      "Traceback (most recent call last):\n",
      "  File \"/usr/lib64/python3.9/multiprocessing/resource_tracker.py\", line 201, in main\n",
      "    cache[rtype].remove(name)\n",
      "KeyError: '/refSlopes_gpu_handle'\n",
      "Traceback (most recent call last):\n",
      "  File \"/usr/lib64/python3.9/multiprocessing/resource_tracker.py\", line 201, in main\n",
      "    cache[rtype].remove(name)\n",
      "KeyError: '/subApMasks'\n",
      "Traceback (most recent call last):\n",
      "  File \"/usr/lib64/python3.9/multiprocessing/resource_tracker.py\", line 201, in main\n",
      "    cache[rtype].remove(name)\n",
      "KeyError: '/subApMasks_meta'\n",
      "Traceback (most recent call last):\n",
      "  File \"/usr/lib64/python3.9/multiprocessing/resource_tracker.py\", line 201, in main\n",
      "    cache[rtype].remove(name)\n",
      "KeyError: '/subApMasks_gpu_handle'\n",
      "Traceback (most recent call last):\n",
      "  File \"/usr/lib64/python3.9/multiprocessing/resource_tracker.py\", line 201, in main\n",
      "    cache[rtype].remove(name)\n",
      "KeyError: '/cmat'\n",
      "Traceback (most recent call last):\n",
      "  File \"/usr/lib64/python3.9/multiprocessing/resource_tracker.py\", line 201, in main\n",
      "    cache[rtype].remove(name)\n",
      "KeyError: '/cmat_meta'\n",
      "Traceback (most recent call last):\n",
      "  File \"/usr/lib64/python3.9/multiprocessing/resource_tracker.py\", line 201, in main\n",
      "    cache[rtype].remove(name)\n",
      "KeyError: '/cmat_gpu_handle'\n",
      "Traceback (most recent call last):\n",
      "  File \"/usr/lib64/python3.9/multiprocessing/resource_tracker.py\", line 201, in main\n",
      "    cache[rtype].remove(name)\n",
      "KeyError: '/m2c'\n",
      "Traceback (most recent call last):\n",
      "  File \"/usr/lib64/python3.9/multiprocessing/resource_tracker.py\", line 201, in main\n",
      "    cache[rtype].remove(name)\n",
      "KeyError: '/m2c_meta'\n",
      "Traceback (most recent call last):\n",
      "  File \"/usr/lib64/python3.9/multiprocessing/resource_tracker.py\", line 201, in main\n",
      "    cache[rtype].remove(name)\n",
      "KeyError: '/m2c_gpu_handle'\n"
     ]
    }
   ],
   "source": [
    "shm_names = [\"wfs\", \"wfsRaw\", \"wfc\", \"wfc2D\", \"wfcShape\", \"signal\", \"signal2D\", \"psfShort\", \"psfLong\", \"wfsInfo\", \"loop\", \"refSlopes\", \"subApMasks\", \"cmat\", \"m2c\"] #list of SHMs to reset\n",
    "clear_shms(shm_names)"
   ]
  },
  {
   "cell_type": "code",
   "execution_count": 4,
   "id": "cf21250b-c8ec-46e2-bbd3-53ae86a96d84",
   "metadata": {},
   "outputs": [
    {
     "name": "stderr",
     "output_type": "stream",
     "text": [
      "WARNING:root:Unable to adjust nice level.                         Give your user sudo privledges without passowrd to use this feature.\n"
     ]
    },
    {
     "name": "stdout",
     "output_type": "stream",
     "text": [
      "Creating New Shared Memory Object wfsRaw\n",
      "Creating New Shared Memory Object wfsRaw_meta\n",
      "Creating New Shared Memory Object wfs\n",
      "Creating New Shared Memory Object wfs_meta\n",
      "Creating New Shared Memory Object wfsInfo\n",
      "Thread expose: Priority set to REALTIME\n",
      "Creating New Shared Memory Object wfsInfo_meta\n"
     ]
    }
   ],
   "source": [
    "conf = utils.read_yaml_file(\"config_felix.yaml\")\n",
    "wfs_conf = conf[\"wfs\"]\n",
    "wfs = AndorWFS(wfs_conf)"
   ]
  },
  {
   "cell_type": "code",
   "execution_count": 5,
   "id": "b832d1d5-1b95-4866-b8a3-00f1d0362fbf",
   "metadata": {},
   "outputs": [],
   "source": [
    "wfs.start()"
   ]
  },
  {
   "cell_type": "code",
   "execution_count": 5,
   "id": "48e4ca49-54e6-4464-9369-e9147ccbacb8",
   "metadata": {},
   "outputs": [],
   "source": [
    "im = wfs.image.read()"
   ]
  },
  {
   "cell_type": "code",
   "execution_count": null,
   "id": "23e20aa5-ca58-458d-a2b6-1fcdbeb1f9dd",
   "metadata": {},
   "outputs": [],
   "source": []
  },
  {
   "cell_type": "code",
   "execution_count": 11,
   "id": "2accd917-0441-48eb-9e78-2f9be8c6518b",
   "metadata": {},
   "outputs": [
    {
     "data": {
      "text/plain": [
       "(20067, array([0, 0, 0, ..., 0, 0, 0], dtype=int16))"
      ]
     },
     "execution_count": 11,
     "metadata": {},
     "output_type": "execute_result"
    }
   ],
   "source": [
    "wfs.sdk.GetMostRecentImage16(64*64)"
   ]
  },
  {
   "cell_type": "code",
   "execution_count": 11,
   "id": "5830791f-6cf5-42ae-92f8-677454a44bef",
   "metadata": {},
   "outputs": [
    {
     "data": {
      "text/plain": [
       "256.0"
      ]
     },
     "execution_count": 11,
     "metadata": {},
     "output_type": "execute_result"
    }
   ],
   "source": [
    "wfs.size / 256"
   ]
  },
  {
   "cell_type": "code",
   "execution_count": 8,
   "id": "cdb7c0b8-0c86-4c77-b3a9-9772fa2a5f61",
   "metadata": {},
   "outputs": [
    {
     "data": {
      "text/plain": [
       "<matplotlib.image.AxesImage at 0x7f9964397bb0>"
      ]
     },
     "execution_count": 8,
     "metadata": {},
     "output_type": "execute_result"
    },
    {
     "data": {
      "image/png": "[encoded data removed]",
      "text/plain": [
       "<Figure size 640x480 with 1 Axes>"
      ]
     },
     "metadata": {},
     "output_type": "display_data"
    }
   ],
   "source": [
    "plt.figure()\n",
    "plt.imshow(im)"
   ]
  },
  {
   "cell_type": "code",
   "execution_count": 3,
   "id": "e7d0f586",
   "metadata": {
    "collapsed": true,
    "jupyter": {
     "outputs_hidden": true
    },
    "scrolled": true
   },
   "outputs": [
    {
     "name": "stderr",
     "output_type": "stream",
     "text": [
      "Traceback (most recent call last):\n",
      "  File \"/usr/lib64/python3.9/multiprocessing/resource_tracker.py\", line 201, in main\n",
      "    cache[rtype].remove(name)\n",
      "KeyError: '/wfs'\n",
      "Traceback (most recent call last):\n",
      "  File \"/usr/lib64/python3.9/multiprocessing/resource_tracker.py\", line 201, in main\n",
      "    cache[rtype].remove(name)\n",
      "KeyError: '/wfs_meta'\n",
      "Traceback (most recent call last):\n",
      "  File \"/usr/lib64/python3.9/multiprocessing/resource_tracker.py\", line 201, in main\n",
      "    cache[rtype].remove(name)\n",
      "KeyError: '/wfs_gpu_handle'\n",
      "Traceback (most recent call last):\n",
      "  File \"/usr/lib64/python3.9/multiprocessing/resource_tracker.py\", line 201, in main\n",
      "    cache[rtype].remove(name)\n",
      "KeyError: '/wfsRaw'\n",
      "Traceback (most recent call last):\n",
      "  File \"/usr/lib64/python3.9/multiprocessing/resource_tracker.py\", line 201, in main\n",
      "    cache[rtype].remove(name)\n",
      "KeyError: '/wfsRaw_meta'\n",
      "Traceback (most recent call last):\n",
      "  File \"/usr/lib64/python3.9/multiprocessing/resource_tracker.py\", line 201, in main\n",
      "    cache[rtype].remove(name)\n",
      "KeyError: '/wfsRaw_gpu_handle'\n",
      "Traceback (most recent call last):\n",
      "  File \"/usr/lib64/python3.9/multiprocessing/resource_tracker.py\", line 201, in main\n",
      "    cache[rtype].remove(name)\n",
      "KeyError: '/wfc'\n",
      "Traceback (most recent call last):\n",
      "  File \"/usr/lib64/python3.9/multiprocessing/resource_tracker.py\", line 201, in main\n",
      "    cache[rtype].remove(name)\n",
      "KeyError: '/wfc_meta'\n",
      "Traceback (most recent call last):\n",
      "  File \"/usr/lib64/python3.9/multiprocessing/resource_tracker.py\", line 201, in main\n",
      "    cache[rtype].remove(name)\n",
      "KeyError: '/wfc_gpu_handle'\n",
      "Traceback (most recent call last):\n",
      "  File \"/usr/lib64/python3.9/multiprocessing/resource_tracker.py\", line 201, in main\n",
      "    cache[rtype].remove(name)\n",
      "KeyError: '/wfc2D'\n",
      "Traceback (most recent call last):\n",
      "  File \"/usr/lib64/python3.9/multiprocessing/resource_tracker.py\", line 201, in main\n",
      "    cache[rtype].remove(name)\n",
      "KeyError: '/wfc2D_meta'\n",
      "Traceback (most recent call last):\n",
      "  File \"/usr/lib64/python3.9/multiprocessing/resource_tracker.py\", line 201, in main\n",
      "    cache[rtype].remove(name)\n",
      "KeyError: '/wfc2D_gpu_handle'\n",
      "Traceback (most recent call last):\n",
      "  File \"/usr/lib64/python3.9/multiprocessing/resource_tracker.py\", line 201, in main\n",
      "    cache[rtype].remove(name)\n",
      "KeyError: '/wfcShape'\n",
      "Traceback (most recent call last):\n",
      "  File \"/usr/lib64/python3.9/multiprocessing/resource_tracker.py\", line 201, in main\n",
      "    cache[rtype].remove(name)\n",
      "KeyError: '/wfcShape_meta'\n",
      "Traceback (most recent call last):\n",
      "  File \"/usr/lib64/python3.9/multiprocessing/resource_tracker.py\", line 201, in main\n",
      "    cache[rtype].remove(name)\n",
      "KeyError: '/wfcShape_gpu_handle'\n",
      "Traceback (most recent call last):\n",
      "  File \"/usr/lib64/python3.9/multiprocessing/resource_tracker.py\", line 201, in main\n",
      "    cache[rtype].remove(name)\n",
      "KeyError: '/signal'\n",
      "Traceback (most recent call last):\n",
      "  File \"/usr/lib64/python3.9/multiprocessing/resource_tracker.py\", line 201, in main\n",
      "    cache[rtype].remove(name)\n",
      "KeyError: '/signal_meta'\n",
      "Traceback (most recent call last):\n",
      "  File \"/usr/lib64/python3.9/multiprocessing/resource_tracker.py\", line 201, in main\n",
      "    cache[rtype].remove(name)\n",
      "KeyError: '/signal_gpu_handle'\n",
      "Traceback (most recent call last):\n",
      "  File \"/usr/lib64/python3.9/multiprocessing/resource_tracker.py\", line 201, in main\n",
      "    cache[rtype].remove(name)\n",
      "KeyError: '/signal2D'\n",
      "Traceback (most recent call last):\n",
      "  File \"/usr/lib64/python3.9/multiprocessing/resource_tracker.py\", line 201, in main\n",
      "    cache[rtype].remove(name)\n",
      "KeyError: '/signal2D_meta'\n",
      "Traceback (most recent call last):\n",
      "  File \"/usr/lib64/python3.9/multiprocessing/resource_tracker.py\", line 201, in main\n",
      "    cache[rtype].remove(name)\n",
      "KeyError: '/signal2D_gpu_handle'\n",
      "Traceback (most recent call last):\n",
      "  File \"/usr/lib64/python3.9/multiprocessing/resource_tracker.py\", line 201, in main\n",
      "    cache[rtype].remove(name)\n",
      "KeyError: '/psfShort'\n",
      "Traceback (most recent call last):\n",
      "  File \"/usr/lib64/python3.9/multiprocessing/resource_tracker.py\", line 201, in main\n",
      "    cache[rtype].remove(name)\n",
      "KeyError: '/psfShort_meta'\n",
      "Traceback (most recent call last):\n",
      "  File \"/usr/lib64/python3.9/multiprocessing/resource_tracker.py\", line 201, in main\n",
      "    cache[rtype].remove(name)\n",
      "KeyError: '/psfShort_gpu_handle'\n",
      "Traceback (most recent call last):\n",
      "  File \"/usr/lib64/python3.9/multiprocessing/resource_tracker.py\", line 201, in main\n",
      "    cache[rtype].remove(name)\n",
      "KeyError: '/psfLong'\n",
      "Traceback (most recent call last):\n",
      "  File \"/usr/lib64/python3.9/multiprocessing/resource_tracker.py\", line 201, in main\n",
      "    cache[rtype].remove(name)\n",
      "KeyError: '/psfLong_meta'\n",
      "Traceback (most recent call last):\n",
      "  File \"/usr/lib64/python3.9/multiprocessing/resource_tracker.py\", line 201, in main\n",
      "    cache[rtype].remove(name)\n",
      "KeyError: '/psfLong_gpu_handle'\n",
      "Traceback (most recent call last):\n",
      "  File \"/usr/lib64/python3.9/multiprocessing/resource_tracker.py\", line 201, in main\n",
      "    cache[rtype].remove(name)\n",
      "KeyError: '/wfsInfo'\n",
      "Traceback (most recent call last):\n",
      "  File \"/usr/lib64/python3.9/multiprocessing/resource_tracker.py\", line 201, in main\n",
      "    cache[rtype].remove(name)\n",
      "KeyError: '/wfsInfo_meta'\n",
      "Traceback (most recent call last):\n",
      "  File \"/usr/lib64/python3.9/multiprocessing/resource_tracker.py\", line 201, in main\n",
      "    cache[rtype].remove(name)\n",
      "KeyError: '/wfsInfo_gpu_handle'\n",
      "Traceback (most recent call last):\n",
      "  File \"/usr/lib64/python3.9/multiprocessing/resource_tracker.py\", line 201, in main\n",
      "    cache[rtype].remove(name)\n",
      "KeyError: '/loop'\n",
      "Traceback (most recent call last):\n",
      "  File \"/usr/lib64/python3.9/multiprocessing/resource_tracker.py\", line 201, in main\n",
      "    cache[rtype].remove(name)\n",
      "KeyError: '/loop_meta'\n",
      "Traceback (most recent call last):\n",
      "  File \"/usr/lib64/python3.9/multiprocessing/resource_tracker.py\", line 201, in main\n",
      "    cache[rtype].remove(name)\n",
      "KeyError: '/loop_gpu_handle'\n",
      "Traceback (most recent call last):\n",
      "  File \"/usr/lib64/python3.9/multiprocessing/resource_tracker.py\", line 201, in main\n",
      "    cache[rtype].remove(name)\n",
      "KeyError: '/refSlopes'\n",
      "Traceback (most recent call last):\n",
      "  File \"/usr/lib64/python3.9/multiprocessing/resource_tracker.py\", line 201, in main\n",
      "    cache[rtype].remove(name)\n",
      "KeyError: '/refSlopes_meta'\n",
      "Traceback (most recent call last):\n",
      "  File \"/usr/lib64/python3.9/multiprocessing/resource_tracker.py\", line 201, in main\n",
      "    cache[rtype].remove(name)\n",
      "KeyError: '/refSlopes_gpu_handle'\n",
      "Traceback (most recent call last):\n",
      "  File \"/usr/lib64/python3.9/multiprocessing/resource_tracker.py\", line 201, in main\n",
      "    cache[rtype].remove(name)\n",
      "KeyError: '/subApMasks'\n",
      "Traceback (most recent call last):\n",
      "  File \"/usr/lib64/python3.9/multiprocessing/resource_tracker.py\", line 201, in main\n",
      "    cache[rtype].remove(name)\n",
      "KeyError: '/subApMasks_meta'\n",
      "Traceback (most recent call last):\n",
      "  File \"/usr/lib64/python3.9/multiprocessing/resource_tracker.py\", line 201, in main\n",
      "    cache[rtype].remove(name)\n",
      "KeyError: '/subApMasks_gpu_handle'\n",
      "Traceback (most recent call last):\n",
      "  File \"/usr/lib64/python3.9/multiprocessing/resource_tracker.py\", line 201, in main\n",
      "    cache[rtype].remove(name)\n",
      "KeyError: '/cmat'\n",
      "Traceback (most recent call last):\n",
      "  File \"/usr/lib64/python3.9/multiprocessing/resource_tracker.py\", line 201, in main\n",
      "    cache[rtype].remove(name)\n",
      "KeyError: '/cmat_meta'\n",
      "Traceback (most recent call last):\n",
      "  File \"/usr/lib64/python3.9/multiprocessing/resource_tracker.py\", line 201, in main\n",
      "    cache[rtype].remove(name)\n",
      "KeyError: '/cmat_gpu_handle'\n",
      "Traceback (most recent call last):\n",
      "  File \"/usr/lib64/python3.9/multiprocessing/resource_tracker.py\", line 201, in main\n",
      "    cache[rtype].remove(name)\n",
      "KeyError: '/m2c'\n",
      "Traceback (most recent call last):\n",
      "  File \"/usr/lib64/python3.9/multiprocessing/resource_tracker.py\", line 201, in main\n",
      "    cache[rtype].remove(name)\n",
      "KeyError: '/m2c_meta'\n",
      "Traceback (most recent call last):\n",
      "  File \"/usr/lib64/python3.9/multiprocessing/resource_tracker.py\", line 201, in main\n",
      "    cache[rtype].remove(name)\n",
      "KeyError: '/m2c_gpu_handle'\n",
      "WARNING:root:Unable to adjust nice level.                         Give your user sudo privledges without passowrd to use this feature.\n"
     ]
    },
    {
     "name": "stdout",
     "output_type": "stream",
     "text": [
      "Creating New Shared Memory Object wfsRaw\n",
      "Creating New Shared Memory Object wfsRaw_meta\n",
      "Creating New Shared Memory Object wfs\n",
      "Thread expose: Priority set to REALTIME\n",
      "Creating New Shared Memory Object wfs_meta\n",
      "Creating New Shared Memory Object wfsInfo\n",
      "Creating New Shared Memory Object wfsInfo_meta\n"
     ]
    },
    {
     "ename": "FileNotFoundError",
     "evalue": "[Errno 2] No such file or directory: '/Users/ellenlee/Documents/pyRTC-IRTF/IRTF/calib/felixcal/calpts_32.npy'",
     "output_type": "error",
     "traceback": [
      "\u001b[0;31m---------------------------------------------------------------------------\u001b[0m",
      "\u001b[0;31mFileNotFoundError\u001b[0m                         Traceback (most recent call last)",
      "Cell \u001b[0;32mIn[3], line 4\u001b[0m\n\u001b[1;32m      2\u001b[0m conf \u001b[38;5;241m=\u001b[39m utils\u001b[38;5;241m.\u001b[39mread_yaml_file(\u001b[38;5;124m\"\u001b[39m\u001b[38;5;124mconfig_felixsim.yaml\u001b[39m\u001b[38;5;124m\"\u001b[39m)\n\u001b[1;32m      3\u001b[0m wfs_conf \u001b[38;5;241m=\u001b[39m conf[\u001b[38;5;124m\"\u001b[39m\u001b[38;5;124mwfs\u001b[39m\u001b[38;5;124m\"\u001b[39m]\n\u001b[0;32m----> 4\u001b[0m wfs \u001b[38;5;241m=\u001b[39m \u001b[43mFELIXSimulator\u001b[49m\u001b[43m(\u001b[49m\u001b[43mwfs_conf\u001b[49m\u001b[43m)\u001b[49m\n\u001b[1;32m      5\u001b[0m wfs\u001b[38;5;241m.\u001b[39mstart()\n\u001b[1;32m      6\u001b[0m time\u001b[38;5;241m.\u001b[39msleep(\u001b[38;5;241m1\u001b[39m)\n",
      "File \u001b[0;32m~/src/pyrtc/pyRTC-IRTF/pyRTC/hardware/FELIXsim.py:41\u001b[0m, in \u001b[0;36mFELIXSimulator.__init__\u001b[0;34m(self, conf)\u001b[0m\n\u001b[1;32m     38\u001b[0m     \u001b[38;5;28mself\u001b[39m\u001b[38;5;241m.\u001b[39mlag \u001b[38;5;241m=\u001b[39m \u001b[38;5;241m0\u001b[39m\n\u001b[1;32m     40\u001b[0m \u001b[38;5;28mself\u001b[39m\u001b[38;5;241m.\u001b[39mamplitude \u001b[38;5;241m=\u001b[39m conf[\u001b[38;5;124m\"\u001b[39m\u001b[38;5;124mamplitude\u001b[39m\u001b[38;5;124m\"\u001b[39m]\n\u001b[0;32m---> 41\u001b[0m \u001b[38;5;28mself\u001b[39m\u001b[38;5;241m.\u001b[39mcalpts \u001b[38;5;241m=\u001b[39m \u001b[43mnp\u001b[49m\u001b[38;5;241;43m.\u001b[39;49m\u001b[43mload\u001b[49m\u001b[43m(\u001b[49m\u001b[43mconf\u001b[49m\u001b[43m[\u001b[49m\u001b[38;5;124;43m\"\u001b[39;49m\u001b[38;5;124;43mcalPoints\u001b[39;49m\u001b[38;5;124;43m\"\u001b[39;49m\u001b[43m]\u001b[49m\u001b[43m)\u001b[49m\n\u001b[1;32m     42\u001b[0m \u001b[38;5;28mself\u001b[39m\u001b[38;5;241m.\u001b[39mbias \u001b[38;5;241m=\u001b[39m conf[\u001b[38;5;124m\"\u001b[39m\u001b[38;5;124mbias\u001b[39m\u001b[38;5;124m\"\u001b[39m]\n\u001b[1;32m     43\u001b[0m \u001b[38;5;28mself\u001b[39m\u001b[38;5;241m.\u001b[39mdetectorNoise \u001b[38;5;241m=\u001b[39m conf[\u001b[38;5;124m\"\u001b[39m\u001b[38;5;124mdetectorNoise\u001b[39m\u001b[38;5;124m\"\u001b[39m]\n",
      "File \u001b[0;32m~/.local/lib/python3.9/site-packages/numpy/lib/npyio.py:427\u001b[0m, in \u001b[0;36mload\u001b[0;34m(file, mmap_mode, allow_pickle, fix_imports, encoding, max_header_size)\u001b[0m\n\u001b[1;32m    425\u001b[0m     own_fid \u001b[38;5;241m=\u001b[39m \u001b[38;5;28;01mFalse\u001b[39;00m\n\u001b[1;32m    426\u001b[0m \u001b[38;5;28;01melse\u001b[39;00m:\n\u001b[0;32m--> 427\u001b[0m     fid \u001b[38;5;241m=\u001b[39m stack\u001b[38;5;241m.\u001b[39menter_context(\u001b[38;5;28;43mopen\u001b[39;49m\u001b[43m(\u001b[49m\u001b[43mos_fspath\u001b[49m\u001b[43m(\u001b[49m\u001b[43mfile\u001b[49m\u001b[43m)\u001b[49m\u001b[43m,\u001b[49m\u001b[43m \u001b[49m\u001b[38;5;124;43m\"\u001b[39;49m\u001b[38;5;124;43mrb\u001b[39;49m\u001b[38;5;124;43m\"\u001b[39;49m\u001b[43m)\u001b[49m)\n\u001b[1;32m    428\u001b[0m     own_fid \u001b[38;5;241m=\u001b[39m \u001b[38;5;28;01mTrue\u001b[39;00m\n\u001b[1;32m    430\u001b[0m \u001b[38;5;66;03m# Code to distinguish from NumPy binary files and pickles.\u001b[39;00m\n",
      "\u001b[0;31mFileNotFoundError\u001b[0m: [Errno 2] No such file or directory: '/Users/ellenlee/Documents/pyRTC-IRTF/IRTF/calib/felixcal/calpts_32.npy'"
     ]
    }
   ],
   "source": [
    "# Get WFS image. make sure to reset SHMs after you're done.\n",
    "conf = utils.read_yaml_file(\"config_felixsim.yaml\")\n",
    "wfs_conf = conf[\"wfs\"]\n",
    "wfs = FELIXSimulator(wfs_conf)\n",
    "wfs.start()\n",
    "time.sleep(1)\n",
    "img = wfs.image.read_noblock()\n",
    "wfs.stop()\n",
    "#fits.writeto(\"../pyRTCView/felix_image.fits\", img, overwrite=True)"
   ]
  },
  {
   "cell_type": "markdown",
   "id": "f6a93337-4c5c-46fd-a634-abcfbaaae80c",
   "metadata": {},
   "source": [
    "## Init hardware"
   ]
  },
  {
   "cell_type": "code",
   "execution_count": 2,
   "id": "0cc6e277-5f29-4966-b5a1-fd6e63f6dd54",
   "metadata": {},
   "outputs": [],
   "source": [
    "conf = utils.read_yaml_file(\"config_felix.yaml\")\n",
    "wfs_conf = conf[\"wfs\"]\n",
    "slopes_conf = conf[\"slopes\"]\n",
    "dm_conf = conf[\"wfc\"]"
   ]
  },
  {
   "cell_type": "code",
   "execution_count": 3,
   "id": "cf84f051-3740-40ef-a75d-e652b867d3d5",
   "metadata": {},
   "outputs": [
    {
     "name": "stdout",
     "output_type": "stream",
     "text": [
      "Thread expose: Priority set to REALTIME\n",
      "Opening Existing Shared Memory Object wfsRaw\n",
      "Opening Existing Shared Memory Object wfsRaw_meta\n",
      "Opening Existing Shared Memory Object wfs\n",
      "Opening Existing Shared Memory Object wfs_meta\n",
      "Opening Existing Shared Memory Object wfsInfo\n",
      "Opening Existing Shared Memory Object wfsInfo_meta\n",
      "Thread computeSignal: Priority set to REALTIME\n",
      "Opening Existing Shared Memory Object wfs_meta\n",
      "Closing wfs_meta\n",
      "Opening Existing Shared Memory Object wfs\n",
      "Opening Existing Shared Memory Object wfs_meta\n",
      "Opening Existing Shared Memory Object subApMasks\n",
      "Opening Existing Shared Memory Object subApMasks_meta\n",
      "Opening Existing Shared Memory Object signal\n",
      "Opening Existing Shared Memory Object signal_meta\n",
      "Opening Existing Shared Memory Object signal2D\n",
      "Opening Existing Shared Memory Object signal2D_meta\n",
      "Opening Existing Shared Memory Object refSlopes\n",
      "Opening Existing Shared Memory Object refSlopes_meta\n",
      "Thread sendToHardware: Priority set to REALTIME\n",
      "Opening Existing Shared Memory Object wfc\n",
      "Opening Existing Shared Memory Object wfc_meta\n",
      "Opening Existing Shared Memory Object wfcShape\n",
      "Opening Existing Shared Memory Object wfcShape_meta\n",
      "Opening Existing Shared Memory Object wfc2D\n",
      "Opening Existing Shared Memory Object wfc2D_meta\n"
     ]
    }
   ],
   "source": [
    "wfs = FELIXSimulator(wfs_conf)\n",
    "slopes = SlopesProcess(conf=slopes_conf)\n",
    "dm = IRTFASMSimulator(dm_conf, wfs)"
   ]
  },
  {
   "cell_type": "code",
   "execution_count": 4,
   "id": "5490fe76-9535-4148-9221-a7f70c32185e",
   "metadata": {},
   "outputs": [],
   "source": [
    "wfs.start()\n",
    "slopes.start()\n",
    "dm.start()\n",
    "\n",
    "dm.flatten()"
   ]
  },
  {
   "cell_type": "code",
   "execution_count": 5,
   "id": "bf3a3e2f-3de3-4d0f-9b4d-10b5b27dc3e9",
   "metadata": {},
   "outputs": [
    {
     "name": "stdout",
     "output_type": "stream",
     "text": [
      "Thread leakyIntegrator: Priority set to REALTIME\n",
      "Opening Existing Shared Memory Object signal_meta\n",
      "Closing signal_meta\n",
      "Opening Existing Shared Memory Object signal\n",
      "Opening Existing Shared Memory Object signal_meta\n",
      "Opening Existing Shared Memory Object wfc_meta\n",
      "Closing wfc_meta\n",
      "Opening Existing Shared Memory Object wfc\n",
      "Opening Existing Shared Memory Object wfc_meta\n",
      "Opening Existing Shared Memory Object loop\n",
      "Opening Existing Shared Memory Object loop_meta\n",
      "Opening Existing Shared Memory Object wfsInfo_meta\n",
      "Closing wfsInfo_meta\n",
      "Opening Existing Shared Memory Object wfsInfo\n",
      "Opening Existing Shared Memory Object wfsInfo_meta\n"
     ]
    }
   ],
   "source": [
    "loop_conf = conf[\"loop\"]\n",
    "loop = Loop(loop_conf)"
   ]
  },
  {
   "cell_type": "markdown",
   "id": "dec71931-c64e-4418-9e0d-b2e5fa5936b9",
   "metadata": {},
   "source": [
    "## Run loop"
   ]
  },
  {
   "cell_type": "code",
   "execution_count": 6,
   "id": "d626423a",
   "metadata": {},
   "outputs": [],
   "source": [
    "loop.stop()"
   ]
  },
  {
   "cell_type": "code",
   "execution_count": 75,
   "id": "81f0d001",
   "metadata": {},
   "outputs": [],
   "source": [
    "loop.setGain(0.0)\n",
    "loop.leakyGain = 0.0\n",
    "loop.start()"
   ]
  },
  {
   "cell_type": "code",
   "execution_count": 46,
   "id": "37183ac2",
   "metadata": {},
   "outputs": [],
   "source": [
    "dm.flatten()"
   ]
  },
  {
   "cell_type": "code",
   "execution_count": 45,
   "id": "aafaf9ee",
   "metadata": {},
   "outputs": [],
   "source": [
    "loop.pbGain = 0.0"
   ]
  },
  {
   "cell_type": "code",
   "execution_count": 7,
   "id": "7cce6ef1",
   "metadata": {},
   "outputs": [],
   "source": [
    "slopes.refSlopes *= 0"
   ]
  },
  {
   "cell_type": "code",
   "execution_count": 43,
   "id": "5a01c793",
   "metadata": {},
   "outputs": [],
   "source": [
    "slopes.takeRefSlopes()"
   ]
  },
  {
   "cell_type": "code",
   "execution_count": 29,
   "id": "c8dcc36c",
   "metadata": {},
   "outputs": [],
   "source": [
    "wfs.slopeNoise = 0.\n",
    "wfs.amplitude = 20\n",
    "wfs.detectorNoise = 5\n",
    "wfs.lag = 200"
   ]
  },
  {
   "cell_type": "code",
   "execution_count": 77,
   "id": "d073a7dd-8812-4575-89f4-9e53f9693764",
   "metadata": {},
   "outputs": [],
   "source": [
    "loop.numItersIM = 1000\n",
    "loop.pokeAmp = 0.5"
   ]
  },
  {
   "cell_type": "code",
   "execution_count": 78,
   "id": "be6fdc57",
   "metadata": {},
   "outputs": [],
   "source": [
    "loop.IMMethod = 0#\"docrime\"\n",
    "loop.computeIM()\n",
    "dm.flatten()"
   ]
  },
  {
   "cell_type": "code",
   "execution_count": 80,
   "id": "770cf72a",
   "metadata": {},
   "outputs": [],
   "source": [
    "loop.saveIM(\"calib/imat/imat.poke.20250930.a.npy\")"
   ]
  },
  {
   "cell_type": "code",
   "execution_count": null,
   "id": "677bd89e",
   "metadata": {},
   "outputs": [],
   "source": [
    "imat_zonal = loop."
   ]
  },
  {
   "cell_type": "code",
   "execution_count": 70,
   "id": "392f808f",
   "metadata": {},
   "outputs": [],
   "source": [
    "loop.loadIM()#\"calib/imat/imat.cacofoni.20250930.a.npy\")"
   ]
  },
  {
   "cell_type": "code",
   "execution_count": null,
   "id": "bedfedd7",
   "metadata": {},
   "outputs": [],
   "source": []
  },
  {
   "cell_type": "code",
   "execution_count": 79,
   "id": "2118f254",
   "metadata": {},
   "outputs": [
    {
     "data": {
      "image/png": "[encoded data removed]",
      "text/plain": [
       "<Figure size 640x480 with 1 Axes>"
      ]
     },
     "metadata": {},
     "output_type": "display_data"
    }
   ],
   "source": [
    "loop.plotIM()"
   ]
  },
  {
   "cell_type": "code",
   "execution_count": 72,
   "id": "b8f2572d",
   "metadata": {},
   "outputs": [
    {
     "data": {
      "text/plain": [
       "array([[0., 0., 0., 0., 0., 0., 0.],\n",
       "       [0., 0., 0., 0., 0., 0., 0.],\n",
       "       [0., 0., 0., 0., 0., 0., 0.],\n",
       "       [0., 0., 0., 0., 0., 0., 0.],\n",
       "       [0., 0., 0., 0., 0., 0., 0.],\n",
       "       [0., 0., 0., 0., 0., 0., 0.],\n",
       "       [0., 0., 0., 0., 0., 0., 0.],\n",
       "       [0., 0., 0., 0., 0., 0., 0.]], dtype=float32)"
      ]
     },
     "execution_count": 72,
     "metadata": {},
     "output_type": "execute_result"
    }
   ],
   "source": [
    "loop.IM"
   ]
  },
  {
   "cell_type": "code",
   "execution_count": null,
   "id": "96985bd0",
   "metadata": {},
   "outputs": [],
   "source": [
    "loop.setNumDroppedModes(0)"
   ]
  },
  {
   "cell_type": "code",
   "execution_count": 35,
   "id": "b34b6619",
   "metadata": {},
   "outputs": [],
   "source": [
    "loop.setGain(0.0)\n",
    "loop.leakyGain = 0.01\n",
    "loop.start()"
   ]
  },
  {
   "cell_type": "code",
   "execution_count": null,
   "id": "b22017fd",
   "metadata": {},
   "outputs": [],
   "source": [
    "slopes.loadChopMasks(\"/Users/ellenlee/Documents/pyRTC-IRTF/IRTF/calib/felixcal/masks_itp.fits\")"
   ]
  },
  {
   "cell_type": "code",
   "execution_count": 20,
   "id": "57cd004d",
   "metadata": {},
   "outputs": [],
   "source": [
    "dm.flatten()\n",
    "slopes.loadSubApMasks()\n",
    "slopes.loadChopMasks()"
   ]
  },
  {
   "cell_type": "code",
   "execution_count": 30,
   "id": "f3c7b3e0",
   "metadata": {},
   "outputs": [],
   "source": [
    "slopes.chopSubApsToPosition(\"BA\", 0.2)"
   ]
  },
  {
   "cell_type": "code",
   "execution_count": 23,
   "id": "1528fed0",
   "metadata": {},
   "outputs": [],
   "source": [
    "slopes.chopSubaps(freq=1,rampFraction=0.4,numIter=2)"
   ]
  },
  {
   "cell_type": "code",
   "execution_count": 29,
   "id": "0701f75a",
   "metadata": {},
   "outputs": [],
   "source": [
    "loop.stop()\n",
    "\n",
    "coeffs = np.random.normal(0, 0.02, 7)\n",
    "coeffs[7:] = 0\n",
    "\n",
    "#coeffs = np.zeros(36)\n",
    "#coeffs[0] = 0.02\n",
    "dm.write(coeffs)\n",
    "dm.sendToHardware()"
   ]
  },
  {
   "cell_type": "code",
   "execution_count": 27,
   "id": "3b335c18-dbb2-41d4-a319-b0dc24d946c5",
   "metadata": {},
   "outputs": [],
   "source": [
    "slopes.refSlopes *= 0"
   ]
  },
  {
   "cell_type": "code",
   "execution_count": 12,
   "id": "6dfc4f78",
   "metadata": {},
   "outputs": [],
   "source": [
    "slopes.loadRefSlopes(\"calib/felixcal/calpts_32_r0_12x12closed.npy\")"
   ]
  },
  {
   "cell_type": "code",
   "execution_count": null,
   "id": "c950c676",
   "metadata": {},
   "outputs": [],
   "source": []
  }
 ],
 "metadata": {
  "kernelspec": {
   "display_name": "Python 3 (ipykernel)",
   "language": "python",
   "name": "python3"
  },
  "language_info": {
   "codemirror_mode": {
    "name": "ipython",
    "version": 3
   },
   "file_extension": ".py",
   "mimetype": "text/x-python",
   "name": "python",
   "nbconvert_exporter": "python",
   "pygments_lexer": "ipython3",
   "version": "3.9.20"
  }
 },
 "nbformat": 4,
 "nbformat_minor": 5
}
