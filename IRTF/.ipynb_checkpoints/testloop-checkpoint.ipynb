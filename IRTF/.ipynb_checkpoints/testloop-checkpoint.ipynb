{
 "cells": [
  {
   "cell_type": "code",
   "execution_count": 1,
   "id": "7382be99",
   "metadata": {},
   "outputs": [],
   "source": [
    "import time\n",
    "import matplotlib.pyplot as plt\n",
    "import pyRTC.utils as utils\n",
    "import numpy as np?\n",
    "\n",
    "from pyRTC import *"
   ]
  },
  {
   "cell_type": "code",
   "execution_count": 2,
   "id": "0b2458f9",
   "metadata": {
    "collapsed": true,
    "jupyter": {
     "outputs_hidden": true
    },
    "scrolled": true
   },
   "outputs": [
    {
     "name": "stderr",
     "output_type": "stream",
     "text": [
      "Traceback (most recent call last):\n",
      "  File \"/Users/ellenlee/opt/anaconda3-arm64/envs/pyrtc/lib/python3.9/multiprocessing/resource_tracker.py\", line 201, in main\n",
      "    cache[rtype].remove(name)\n",
      "KeyError: '/wfs'\n",
      "Traceback (most recent call last):\n",
      "  File \"/Users/ellenlee/opt/anaconda3-arm64/envs/pyrtc/lib/python3.9/multiprocessing/resource_tracker.py\", line 201, in main\n",
      "    cache[rtype].remove(name)\n",
      "KeyError: '/wfs_meta'\n",
      "Traceback (most recent call last):\n",
      "  File \"/Users/ellenlee/opt/anaconda3-arm64/envs/pyrtc/lib/python3.9/multiprocessing/resource_tracker.py\", line 201, in main\n",
      "    cache[rtype].remove(name)\n",
      "KeyError: '/wfs_gpu_handle'\n",
      "Traceback (most recent call last):\n",
      "  File \"/Users/ellenlee/opt/anaconda3-arm64/envs/pyrtc/lib/python3.9/multiprocessing/resource_tracker.py\", line 201, in main\n",
      "    cache[rtype].remove(name)\n",
      "KeyError: '/wfsRaw'\n",
      "Traceback (most recent call last):\n",
      "  File \"/Users/ellenlee/opt/anaconda3-arm64/envs/pyrtc/lib/python3.9/multiprocessing/resource_tracker.py\", line 201, in main\n",
      "    cache[rtype].remove(name)\n",
      "KeyError: '/wfsRaw_meta'\n",
      "Traceback (most recent call last):\n",
      "  File \"/Users/ellenlee/opt/anaconda3-arm64/envs/pyrtc/lib/python3.9/multiprocessing/resource_tracker.py\", line 201, in main\n",
      "    cache[rtype].remove(name)\n",
      "KeyError: '/wfsRaw_gpu_handle'\n",
      "Traceback (most recent call last):\n",
      "  File \"/Users/ellenlee/opt/anaconda3-arm64/envs/pyrtc/lib/python3.9/multiprocessing/resource_tracker.py\", line 201, in main\n",
      "    cache[rtype].remove(name)\n",
      "KeyError: '/wfc'\n",
      "Traceback (most recent call last):\n",
      "  File \"/Users/ellenlee/opt/anaconda3-arm64/envs/pyrtc/lib/python3.9/multiprocessing/resource_tracker.py\", line 201, in main\n",
      "    cache[rtype].remove(name)\n",
      "KeyError: '/wfc_meta'\n",
      "Traceback (most recent call last):\n",
      "  File \"/Users/ellenlee/opt/anaconda3-arm64/envs/pyrtc/lib/python3.9/multiprocessing/resource_tracker.py\", line 201, in main\n",
      "    cache[rtype].remove(name)\n",
      "KeyError: '/wfc_gpu_handle'\n",
      "Traceback (most recent call last):\n",
      "  File \"/Users/ellenlee/opt/anaconda3-arm64/envs/pyrtc/lib/python3.9/multiprocessing/resource_tracker.py\", line 201, in main\n",
      "    cache[rtype].remove(name)\n",
      "KeyError: '/wfc2D'\n",
      "Traceback (most recent call last):\n",
      "  File \"/Users/ellenlee/opt/anaconda3-arm64/envs/pyrtc/lib/python3.9/multiprocessing/resource_tracker.py\", line 201, in main\n",
      "    cache[rtype].remove(name)\n",
      "KeyError: '/wfc2D_meta'\n",
      "Traceback (most recent call last):\n",
      "  File \"/Users/ellenlee/opt/anaconda3-arm64/envs/pyrtc/lib/python3.9/multiprocessing/resource_tracker.py\", line 201, in main\n",
      "    cache[rtype].remove(name)\n",
      "KeyError: '/wfc2D_gpu_handle'\n",
      "Traceback (most recent call last):\n",
      "  File \"/Users/ellenlee/opt/anaconda3-arm64/envs/pyrtc/lib/python3.9/multiprocessing/resource_tracker.py\", line 201, in main\n",
      "    cache[rtype].remove(name)\n",
      "KeyError: '/signal'\n",
      "Traceback (most recent call last):\n",
      "  File \"/Users/ellenlee/opt/anaconda3-arm64/envs/pyrtc/lib/python3.9/multiprocessing/resource_tracker.py\", line 201, in main\n",
      "    cache[rtype].remove(name)\n",
      "KeyError: '/signal_meta'\n",
      "Traceback (most recent call last):\n",
      "  File \"/Users/ellenlee/opt/anaconda3-arm64/envs/pyrtc/lib/python3.9/multiprocessing/resource_tracker.py\", line 201, in main\n",
      "    cache[rtype].remove(name)\n",
      "KeyError: '/signal_gpu_handle'\n",
      "Traceback (most recent call last):\n",
      "  File \"/Users/ellenlee/opt/anaconda3-arm64/envs/pyrtc/lib/python3.9/multiprocessing/resource_tracker.py\", line 201, in main\n",
      "    cache[rtype].remove(name)\n",
      "KeyError: '/signal2D'\n",
      "Traceback (most recent call last):\n",
      "  File \"/Users/ellenlee/opt/anaconda3-arm64/envs/pyrtc/lib/python3.9/multiprocessing/resource_tracker.py\", line 201, in main\n",
      "    cache[rtype].remove(name)\n",
      "KeyError: '/signal2D_meta'\n",
      "Traceback (most recent call last):\n",
      "  File \"/Users/ellenlee/opt/anaconda3-arm64/envs/pyrtc/lib/python3.9/multiprocessing/resource_tracker.py\", line 201, in main\n",
      "    cache[rtype].remove(name)\n",
      "KeyError: '/signal2D_gpu_handle'\n",
      "Traceback (most recent call last):\n",
      "  File \"/Users/ellenlee/opt/anaconda3-arm64/envs/pyrtc/lib/python3.9/multiprocessing/resource_tracker.py\", line 201, in main\n",
      "    cache[rtype].remove(name)\n",
      "KeyError: '/psfShort'\n",
      "Traceback (most recent call last):\n",
      "  File \"/Users/ellenlee/opt/anaconda3-arm64/envs/pyrtc/lib/python3.9/multiprocessing/resource_tracker.py\", line 201, in main\n",
      "    cache[rtype].remove(name)\n",
      "KeyError: '/psfShort_meta'\n",
      "Traceback (most recent call last):\n",
      "  File \"/Users/ellenlee/opt/anaconda3-arm64/envs/pyrtc/lib/python3.9/multiprocessing/resource_tracker.py\", line 201, in main\n",
      "    cache[rtype].remove(name)\n",
      "KeyError: '/psfShort_gpu_handle'\n",
      "Traceback (most recent call last):\n",
      "  File \"/Users/ellenlee/opt/anaconda3-arm64/envs/pyrtc/lib/python3.9/multiprocessing/resource_tracker.py\", line 201, in main\n",
      "    cache[rtype].remove(name)\n",
      "KeyError: '/psfLong'\n",
      "Traceback (most recent call last):\n",
      "  File \"/Users/ellenlee/opt/anaconda3-arm64/envs/pyrtc/lib/python3.9/multiprocessing/resource_tracker.py\", line 201, in main\n",
      "    cache[rtype].remove(name)\n",
      "KeyError: '/psfLong_meta'\n",
      "Traceback (most recent call last):\n",
      "  File \"/Users/ellenlee/opt/anaconda3-arm64/envs/pyrtc/lib/python3.9/multiprocessing/resource_tracker.py\", line 201, in main\n",
      "    cache[rtype].remove(name)\n",
      "KeyError: '/psfLong_gpu_handle'\n"
     ]
    }
   ],
   "source": [
    "shm_names = [\"wfs\", \"wfsRaw\", \"wfc\", \"wfc2D\", \"signal\", \"signal2D\", \"psfShort\", \"psfLong\"] #list of SHMs to reset\n",
    "clear_shms(shm_names)"
   ]
  },
  {
   "cell_type": "markdown",
   "id": "3efa7b51-c6ae-48c5-a777-7df029af0987",
   "metadata": {},
   "source": [
    "Set up hardware"
   ]
  },
  {
   "cell_type": "code",
   "execution_count": 7,
   "id": "0d51171a",
   "metadata": {
    "scrolled": true
   },
   "outputs": [],
   "source": [
    "conf = utils.read_yaml_file(\"config_asmlab.yaml\")\n",
    "dm_conf = conf[\"wfc\"]\n",
    "wfs_conf = conf[\"wfs\"]\n",
    "slopes_conf = conf[\"slopes\"]\n",
    "loop_conf = conf[\"loop\"]"
   ]
  },
  {
   "cell_type": "code",
   "execution_count": 4,
   "id": "2dd619a8",
   "metadata": {
    "scrolled": true
   },
   "outputs": [],
   "source": [
    "# If could not read XML URL error shows up open Spinview and stop/start acquisition manually a few times\n",
    "wfs = SpinnakerWFS(wfs_conf)"
   ]
  },
  {
   "cell_type": "code",
   "execution_count": 5,
   "id": "f1281f2c-2e8a-4410-bd8b-a56e0f6f5a13",
   "metadata": {},
   "outputs": [],
   "source": [
    "dm = ImakaDM(dm_conf)"
   ]
  },
  {
   "cell_type": "code",
   "execution_count": 8,
   "id": "fb322dbd",
   "metadata": {},
   "outputs": [],
   "source": [
    "slopes = SlopesProcess(conf=slopes_conf)\n",
    "loop = Loop(conf=loop_conf)"
   ]
  },
  {
   "cell_type": "markdown",
   "id": "68f05774-5635-4ae3-af17-7e21eeffd183",
   "metadata": {},
   "source": [
    "Run the system"
   ]
  },
  {
   "cell_type": "code",
   "execution_count": 9,
   "id": "71f86bd0-fbe3-4ffd-8d4d-84ba8250841f",
   "metadata": {},
   "outputs": [],
   "source": [
    "dm.start()\n",
    "dm.flatten()\n",
    "wfs.start()\n",
    "slopes.start()"
   ]
  },
  {
   "cell_type": "code",
   "execution_count": 70,
   "id": "e8bbd0ec-479d-4928-83e6-47bbec777a47",
   "metadata": {},
   "outputs": [],
   "source": [
    "slopes.takeRefSlopes()"
   ]
  },
  {
   "cell_type": "code",
   "execution_count": 71,
   "id": "0f6a5888-1541-40b4-8ee9-36104f31ac4a",
   "metadata": {},
   "outputs": [],
   "source": [
    "slopes.saveRefSlopes()"
   ]
  },
  {
   "cell_type": "code",
   "execution_count": 10,
   "id": "ff951c7e-c9af-4990-99cd-0761d595e54e",
   "metadata": {},
   "outputs": [],
   "source": [
    "wfs.takeDark()"
   ]
  },
  {
   "cell_type": "code",
   "execution_count": 15,
   "id": "e0bafa15-eea5-4da3-84dc-e6b966037a97",
   "metadata": {},
   "outputs": [],
   "source": [
    "loop.computeIM()"
   ]
  },
  {
   "cell_type": "code",
   "execution_count": 67,
   "id": "f713d41f-83cc-40d5-988a-41ffc95cb104",
   "metadata": {},
   "outputs": [],
   "source": [
    "loop.leakyGain = 0.05\n",
    "loop.setGain(0.2)"
   ]
  },
  {
   "cell_type": "code",
   "execution_count": 78,
   "id": "3f6fa3ed-a23b-459f-a8ab-37afd103037e",
   "metadata": {},
   "outputs": [],
   "source": [
    "loop.start()"
   ]
  },
  {
   "cell_type": "code",
   "execution_count": 80,
   "id": "23c05929-1827-46e6-93ed-b33ba2b74332",
   "metadata": {},
   "outputs": [],
   "source": [
    "# Open the loop\n",
    "loop.stop()\n",
    "time.sleep(1e-1)\n",
    "dm.flatten()"
   ]
  },
  {
   "cell_type": "markdown",
   "id": "22bfd67b-e9f3-4477-928e-8d3630c5bbe8",
   "metadata": {},
   "source": [
    "Inspect data"
   ]
  },
  {
   "cell_type": "code",
   "execution_count": 10,
   "id": "0b22e6d1-f141-4d30-b2f0-6e077ff18604",
   "metadata": {},
   "outputs": [
    {
     "data": {
      "image/png": "[encoded data removed]",
      "text/plain": [
       "<Figure size 640x480 with 2 Axes>"
      ]
     },
     "metadata": {},
     "output_type": "display_data"
    }
   ],
   "source": [
    "plt.imshow(slopes.signal2D.read_noblock())\n",
    "plt.colorbar()\n",
    "plt.show()"
   ]
  },
  {
   "cell_type": "code",
   "execution_count": 12,
   "id": "af1c0ab0-785b-4eba-9cbf-0be0ed00d9d8",
   "metadata": {},
   "outputs": [
    {
     "data": {
      "text/plain": [
       "(24, 12)"
      ]
     },
     "execution_count": 12,
     "metadata": {},
     "output_type": "execute_result"
    }
   ],
   "source": [
    "testslopes.shape"
   ]
  },
  {
   "cell_type": "code",
   "execution_count": 13,
   "id": "ab6eb7dc-2d24-4dd8-9f3e-dca22f0c8b67",
   "metadata": {},
   "outputs": [
    {
     "data": {
      "image/png": "[encoded data removed]",
      "text/plain": [
       "<Figure size 640x480 with 1 Axes>"
      ]
     },
     "metadata": {},
     "output_type": "display_data"
    }
   ],
   "source": [
    "testslopes = slopes.signal2D.read_noblock()\n",
    "\n",
    "plt.figure()\n",
    "plt.scatter(testslopes[:12].flatten(), testslopes[12:].flatten(), c='r')\n",
    "plt.show()"
   ]
  },
  {
   "cell_type": "markdown",
   "id": "957c5017-47ff-4dd8-b3dc-e605dd2502c5",
   "metadata": {},
   "source": [
    "Shut down"
   ]
  },
  {
   "cell_type": "code",
   "execution_count": 81,
   "id": "9e020bb2-3564-4f40-91e6-915c1fc90d01",
   "metadata": {},
   "outputs": [],
   "source": [
    "wfs.stop()\n",
    "dm.stop()\n",
    "slopes.stop()\n",
    "loop.stop()"
   ]
  },
  {
   "cell_type": "code",
   "execution_count": 10,
   "id": "9e0e8c31-3409-422a-a583-3b44dda99b32",
   "metadata": {},
   "outputs": [
    {
     "ename": "NameError",
     "evalue": "name 'loop' is not defined",
     "output_type": "error",
     "traceback": [
      "\u001b[0;31m---------------------------------------------------------------------------\u001b[0m",
      "\u001b[0;31mNameError\u001b[0m                                 Traceback (most recent call last)",
      "Cell \u001b[0;32mIn[10], line 4\u001b[0m\n\u001b[1;32m      2\u001b[0m \u001b[38;5;28;01mdel\u001b[39;00m(dm)\n\u001b[1;32m      3\u001b[0m \u001b[38;5;28;01mdel\u001b[39;00m(slopes)\n\u001b[0;32m----> 4\u001b[0m \u001b[38;5;28;01mdel\u001b[39;00m(loop)\n",
      "\u001b[0;31mNameError\u001b[0m: name 'loop' is not defined"
     ]
    }
   ],
   "source": [
    "del(wfs)\n",
    "del(dm)\n",
    "del(slopes)\n",
    "del(loop)"
   ]
  }
 ],
 "metadata": {
  "kernelspec": {
   "display_name": "Python 3 (ipykernel)",
   "language": "python",
   "name": "python3"
  },
  "language_info": {
   "codemirror_mode": {
    "name": "ipython",
    "version": 3
   },
   "file_extension": ".py",
   "mimetype": "text/x-python",
   "name": "python",
   "nbconvert_exporter": "python",
   "pygments_lexer": "ipython3",
   "version": "3.9.20"
  }
 },
 "nbformat": 4,
 "nbformat_minor": 5
}
