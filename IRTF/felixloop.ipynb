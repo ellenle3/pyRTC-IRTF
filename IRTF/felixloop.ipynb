{
 "cells": [
  {
   "cell_type": "code",
   "execution_count": 1,
   "id": "c308ba58-5022-426a-ab11-ae9264c63b02",
   "metadata": {},
   "outputs": [],
   "source": [
    "import numpy as np\n",
    "import matplotlib.pyplot as plt\n",
    "\n",
    "import pyRTC.utils as utils\n",
    "from pyRTC import *"
   ]
  },
  {
   "cell_type": "code",
   "execution_count": 2,
   "id": "870d2e91-906d-4588-9bc2-75ec87ccbd03",
   "metadata": {
    "collapsed": true,
    "jupyter": {
     "outputs_hidden": true
    },
    "scrolled": true
   },
   "outputs": [
    {
     "name": "stderr",
     "output_type": "stream",
     "text": [
      "Traceback (most recent call last):\n",
      "  File \"/Users/ellenlee/opt/anaconda3-arm64/envs/pyrtc/lib/python3.9/multiprocessing/resource_tracker.py\", line 201, in main\n",
      "    cache[rtype].remove(name)\n",
      "KeyError: '/wfs'\n",
      "Traceback (most recent call last):\n",
      "  File \"/Users/ellenlee/opt/anaconda3-arm64/envs/pyrtc/lib/python3.9/multiprocessing/resource_tracker.py\", line 201, in main\n",
      "    cache[rtype].remove(name)\n",
      "KeyError: '/wfs_meta'\n",
      "Traceback (most recent call last):\n",
      "  File \"/Users/ellenlee/opt/anaconda3-arm64/envs/pyrtc/lib/python3.9/multiprocessing/resource_tracker.py\", line 201, in main\n",
      "    cache[rtype].remove(name)\n",
      "KeyError: '/wfs_gpu_handle'\n",
      "Traceback (most recent call last):\n",
      "  File \"/Users/ellenlee/opt/anaconda3-arm64/envs/pyrtc/lib/python3.9/multiprocessing/resource_tracker.py\", line 201, in main\n",
      "    cache[rtype].remove(name)\n",
      "KeyError: '/wfsRaw'\n",
      "Traceback (most recent call last):\n",
      "  File \"/Users/ellenlee/opt/anaconda3-arm64/envs/pyrtc/lib/python3.9/multiprocessing/resource_tracker.py\", line 201, in main\n",
      "    cache[rtype].remove(name)\n",
      "KeyError: '/wfsRaw_meta'\n",
      "Traceback (most recent call last):\n",
      "  File \"/Users/ellenlee/opt/anaconda3-arm64/envs/pyrtc/lib/python3.9/multiprocessing/resource_tracker.py\", line 201, in main\n",
      "    cache[rtype].remove(name)\n",
      "KeyError: '/wfsRaw_gpu_handle'\n",
      "Traceback (most recent call last):\n",
      "  File \"/Users/ellenlee/opt/anaconda3-arm64/envs/pyrtc/lib/python3.9/multiprocessing/resource_tracker.py\", line 201, in main\n",
      "    cache[rtype].remove(name)\n",
      "KeyError: '/wfc'\n",
      "Traceback (most recent call last):\n",
      "  File \"/Users/ellenlee/opt/anaconda3-arm64/envs/pyrtc/lib/python3.9/multiprocessing/resource_tracker.py\", line 201, in main\n",
      "    cache[rtype].remove(name)\n",
      "KeyError: '/wfc_meta'\n",
      "Traceback (most recent call last):\n",
      "  File \"/Users/ellenlee/opt/anaconda3-arm64/envs/pyrtc/lib/python3.9/multiprocessing/resource_tracker.py\", line 201, in main\n",
      "    cache[rtype].remove(name)\n",
      "KeyError: '/wfc_gpu_handle'\n",
      "Traceback (most recent call last):\n",
      "  File \"/Users/ellenlee/opt/anaconda3-arm64/envs/pyrtc/lib/python3.9/multiprocessing/resource_tracker.py\", line 201, in main\n",
      "    cache[rtype].remove(name)\n",
      "KeyError: '/wfc2D'\n",
      "Traceback (most recent call last):\n",
      "  File \"/Users/ellenlee/opt/anaconda3-arm64/envs/pyrtc/lib/python3.9/multiprocessing/resource_tracker.py\", line 201, in main\n",
      "    cache[rtype].remove(name)\n",
      "KeyError: '/wfc2D_meta'\n",
      "Traceback (most recent call last):\n",
      "  File \"/Users/ellenlee/opt/anaconda3-arm64/envs/pyrtc/lib/python3.9/multiprocessing/resource_tracker.py\", line 201, in main\n",
      "    cache[rtype].remove(name)\n",
      "KeyError: '/wfc2D_gpu_handle'\n",
      "Traceback (most recent call last):\n",
      "  File \"/Users/ellenlee/opt/anaconda3-arm64/envs/pyrtc/lib/python3.9/multiprocessing/resource_tracker.py\", line 201, in main\n",
      "    cache[rtype].remove(name)\n",
      "KeyError: '/signal'\n",
      "Traceback (most recent call last):\n",
      "  File \"/Users/ellenlee/opt/anaconda3-arm64/envs/pyrtc/lib/python3.9/multiprocessing/resource_tracker.py\", line 201, in main\n",
      "    cache[rtype].remove(name)\n",
      "KeyError: '/signal_meta'\n",
      "Traceback (most recent call last):\n",
      "  File \"/Users/ellenlee/opt/anaconda3-arm64/envs/pyrtc/lib/python3.9/multiprocessing/resource_tracker.py\", line 201, in main\n",
      "    cache[rtype].remove(name)\n",
      "KeyError: '/signal_gpu_handle'\n",
      "Traceback (most recent call last):\n",
      "  File \"/Users/ellenlee/opt/anaconda3-arm64/envs/pyrtc/lib/python3.9/multiprocessing/resource_tracker.py\", line 201, in main\n",
      "    cache[rtype].remove(name)\n",
      "KeyError: '/signal2D'\n",
      "Traceback (most recent call last):\n",
      "  File \"/Users/ellenlee/opt/anaconda3-arm64/envs/pyrtc/lib/python3.9/multiprocessing/resource_tracker.py\", line 201, in main\n",
      "    cache[rtype].remove(name)\n",
      "KeyError: '/signal2D_meta'\n",
      "Traceback (most recent call last):\n",
      "  File \"/Users/ellenlee/opt/anaconda3-arm64/envs/pyrtc/lib/python3.9/multiprocessing/resource_tracker.py\", line 201, in main\n",
      "    cache[rtype].remove(name)\n",
      "KeyError: '/signal2D_gpu_handle'\n",
      "Traceback (most recent call last):\n",
      "  File \"/Users/ellenlee/opt/anaconda3-arm64/envs/pyrtc/lib/python3.9/multiprocessing/resource_tracker.py\", line 201, in main\n",
      "    cache[rtype].remove(name)\n",
      "KeyError: '/psfShort'\n",
      "Traceback (most recent call last):\n",
      "  File \"/Users/ellenlee/opt/anaconda3-arm64/envs/pyrtc/lib/python3.9/multiprocessing/resource_tracker.py\", line 201, in main\n",
      "    cache[rtype].remove(name)\n",
      "KeyError: '/psfShort_meta'\n",
      "Traceback (most recent call last):\n",
      "  File \"/Users/ellenlee/opt/anaconda3-arm64/envs/pyrtc/lib/python3.9/multiprocessing/resource_tracker.py\", line 201, in main\n",
      "    cache[rtype].remove(name)\n",
      "KeyError: '/psfShort_gpu_handle'\n",
      "Traceback (most recent call last):\n",
      "  File \"/Users/ellenlee/opt/anaconda3-arm64/envs/pyrtc/lib/python3.9/multiprocessing/resource_tracker.py\", line 201, in main\n",
      "    cache[rtype].remove(name)\n",
      "KeyError: '/psfLong'\n",
      "Traceback (most recent call last):\n",
      "  File \"/Users/ellenlee/opt/anaconda3-arm64/envs/pyrtc/lib/python3.9/multiprocessing/resource_tracker.py\", line 201, in main\n",
      "    cache[rtype].remove(name)\n",
      "KeyError: '/psfLong_meta'\n",
      "Traceback (most recent call last):\n",
      "  File \"/Users/ellenlee/opt/anaconda3-arm64/envs/pyrtc/lib/python3.9/multiprocessing/resource_tracker.py\", line 201, in main\n",
      "    cache[rtype].remove(name)\n",
      "KeyError: '/psfLong_gpu_handle'\n"
     ]
    }
   ],
   "source": [
    "shm_names = [\"wfs\", \"wfsRaw\", \"wfc\", \"wfc2D\", \"signal\", \"signal2D\", \"psfShort\", \"psfLong\"] #list of SHMs to reset\n",
    "clear_shms(shm_names)"
   ]
  },
  {
   "cell_type": "markdown",
   "id": "f6a93337-4c5c-46fd-a634-abcfbaaae80c",
   "metadata": {},
   "source": [
    "## Init hardware"
   ]
  },
  {
   "cell_type": "code",
   "execution_count": 2,
   "id": "0cc6e277-5f29-4966-b5a1-fd6e63f6dd54",
   "metadata": {},
   "outputs": [],
   "source": [
    "conf = utils.read_yaml_file(\"config_felixsim.yaml\")\n",
    "wfs_conf = conf[\"wfs\"]\n",
    "slopes_conf = conf[\"slopes\"]\n",
    "dm_conf = conf[\"wfc\"]"
   ]
  },
  {
   "cell_type": "code",
   "execution_count": 3,
   "id": "cf84f051-3740-40ef-a75d-e652b867d3d5",
   "metadata": {},
   "outputs": [],
   "source": [
    "slopes = SlopesProcess(conf=slopes_conf)\n",
    "wfs = FELIXSimulator(wfs_conf)"
   ]
  },
  {
   "cell_type": "code",
   "execution_count": 4,
   "id": "5490fe76-9535-4148-9221-a7f70c32185e",
   "metadata": {},
   "outputs": [],
   "source": [
    "wfs.start()\n",
    "slopes.start()"
   ]
  },
  {
   "cell_type": "code",
   "execution_count": 5,
   "id": "34492165-fb6b-44da-9b0c-f915fe93f47b",
   "metadata": {},
   "outputs": [],
   "source": [
    "dm = IRTFASMSimulator(dm_conf, wfs)"
   ]
  },
  {
   "cell_type": "code",
   "execution_count": 6,
   "id": "eae20898-4097-4e1d-a4b1-0370fe0e87a0",
   "metadata": {
    "scrolled": true
   },
   "outputs": [],
   "source": [
    "dm.start()\n",
    "dm.flatten()"
   ]
  },
  {
   "cell_type": "code",
   "execution_count": 7,
   "id": "bf3a3e2f-3de3-4d0f-9b4d-10b5b27dc3e9",
   "metadata": {},
   "outputs": [],
   "source": [
    "loop_conf = conf[\"loop\"]\n",
    "loop = Loop(loop_conf)\n",
    "loop.start()"
   ]
  },
  {
   "cell_type": "markdown",
   "id": "dec71931-c64e-4418-9e0d-b2e5fa5936b9",
   "metadata": {},
   "source": [
    "## Run simulation"
   ]
  },
  {
   "cell_type": "code",
   "execution_count": 58,
   "id": "d073a7dd-8812-4575-89f4-9e53f9693764",
   "metadata": {},
   "outputs": [],
   "source": [
    "loop.numItersIM = 200\n",
    "loop.pokeAmp = 0.3"
   ]
  },
  {
   "cell_type": "code",
   "execution_count": 59,
   "id": "0dc7b9ce-d97a-4ff3-a055-9a3c323a9b77",
   "metadata": {
    "scrolled": true
   },
   "outputs": [],
   "source": [
    "loop.computeIM()"
   ]
  },
  {
   "cell_type": "code",
   "execution_count": 60,
   "id": "d451679f-1843-43cf-a3f7-2851b242f397",
   "metadata": {},
   "outputs": [
    {
     "data": {
      "image/png": "[encoded data removed]",
      "text/plain": [
       "<Figure size 640x480 with 1 Axes>"
      ]
     },
     "metadata": {},
     "output_type": "display_data"
    }
   ],
   "source": [
    "loop.plotIM()"
   ]
  },
  {
   "cell_type": "code",
   "execution_count": 8,
   "id": "6389a2d7-dd46-4de7-9f6d-8ac3a5df0613",
   "metadata": {},
   "outputs": [],
   "source": [
    "loop.loadIM()"
   ]
  },
  {
   "cell_type": "code",
   "execution_count": 139,
   "id": "db07ffa4-2f30-413a-b26b-1075052786ef",
   "metadata": {},
   "outputs": [],
   "source": [
    "loop.setGain(0.1)\n",
    "loop.leakyGain = 0.05"
   ]
  },
  {
   "cell_type": "code",
   "execution_count": 145,
   "id": "0461c623-4cb1-4a71-8719-d4d3647c20a3",
   "metadata": {},
   "outputs": [],
   "source": [
    "loop.start()"
   ]
  },
  {
   "cell_type": "code",
   "execution_count": 8,
   "id": "36a6d698-3ce8-44a7-92c1-e66cf6a5e584",
   "metadata": {},
   "outputs": [],
   "source": [
    "loop.stop()"
   ]
  },
  {
   "cell_type": "code",
   "execution_count": 16,
   "id": "adab0cc8-706d-472b-830a-d2561dff7154",
   "metadata": {},
   "outputs": [],
   "source": [
    "wfs.amplitude = 30"
   ]
  },
  {
   "cell_type": "code",
   "execution_count": 13,
   "id": "aa20eb87-3d76-44aa-bbd0-aad44d1f4a82",
   "metadata": {},
   "outputs": [],
   "source": [
    "wfs.detectorNoise = 10"
   ]
  },
  {
   "cell_type": "code",
   "execution_count": 17,
   "id": "db50a9b5-4a34-441a-adcf-503299536359",
   "metadata": {},
   "outputs": [],
   "source": [
    "wfs.slopeNoise = 0"
   ]
  },
  {
   "cell_type": "code",
   "execution_count": 34,
   "id": "3ad39c82-6a7b-474c-b06b-8ac198e4349b",
   "metadata": {},
   "outputs": [],
   "source": [
    "coeffs = np.zeros(35)\n",
    "coeffs[6] = 0\n",
    "dm.write(coeffs)\n",
    "dm.sendToHardware()"
   ]
  },
  {
   "cell_type": "code",
   "execution_count": 18,
   "id": "9b9ca021-2c7d-4c62-b7a2-b81d6b698ad2",
   "metadata": {},
   "outputs": [],
   "source": [
    "coeffs = np.random.normal(0, 0.2, 35)\n",
    "coeffs[7:] = 0\n",
    "dm.write(coeffs)\n",
    "dm.sendToHardware()"
   ]
  },
  {
   "cell_type": "code",
   "execution_count": 40,
   "id": "8c48941f-0119-468d-b941-9d9e903b6924",
   "metadata": {},
   "outputs": [],
   "source": [
    "dm.flatten()"
   ]
  },
  {
   "cell_type": "code",
   "execution_count": 47,
   "id": "3b335c18-dbb2-41d4-a319-b0dc24d946c5",
   "metadata": {},
   "outputs": [],
   "source": [
    "slopes.refSlopes *= 0"
   ]
  },
  {
   "cell_type": "code",
   "execution_count": 54,
   "id": "74b90ef1-ba67-483d-b1d7-7af23f7006e0",
   "metadata": {},
   "outputs": [],
   "source": [
    "slopes.takeRefSlopes()"
   ]
  },
  {
   "cell_type": "code",
   "execution_count": 55,
   "id": "f8dca595-dca5-499b-8d07-2beab7e3f76d",
   "metadata": {},
   "outputs": [],
   "source": [
    "slopes.saveRefSlopes()"
   ]
  },
  {
   "cell_type": "code",
   "execution_count": 56,
   "id": "7641b84e-7ff9-4d5b-9527-1200c7f0c2e4",
   "metadata": {},
   "outputs": [],
   "source": [
    "slopes.loadRefSlopes()"
   ]
  },
  {
   "cell_type": "markdown",
   "id": "05e1aedb-79ad-488b-8a41-dba4f1266678",
   "metadata": {},
   "source": [
    "Convert modal imat to cmds"
   ]
  },
  {
   "cell_type": "code",
   "execution_count": 45,
   "id": "583cf861-9276-417d-a6c0-85dcb5329499",
   "metadata": {},
   "outputs": [],
   "source": [
    "imat = fits.getdata(\"calib/slopesXandY.fits\")\n",
    "imat = imat.reshape(35,8).T"
   ]
  },
  {
   "cell_type": "code",
   "execution_count": 46,
   "id": "0505b24d-37e0-4c46-8b42-89664cb11ff3",
   "metadata": {},
   "outputs": [],
   "source": [
    "z2a = np.load(\"calib/m2a_zernike.npy\")\n",
    "a2z = np.linalg.pinv(z2a)"
   ]
  },
  {
   "cell_type": "code",
   "execution_count": 47,
   "id": "9ac331dc-5a8c-41f5-b07b-90c00e6df720",
   "metadata": {},
   "outputs": [],
   "source": [
    "imat_cmds = imat @ a2z"
   ]
  },
  {
   "cell_type": "code",
   "execution_count": 48,
   "id": "f35c7abe-a271-4ecc-8916-9524d37b981c",
   "metadata": {},
   "outputs": [],
   "source": [
    "np.save(\"calib/felix_theor_imat_cmds.npy\", imat_cmds)"
   ]
  },
  {
   "cell_type": "code",
   "execution_count": 13,
   "id": "25144af0-4bc0-4f04-9b38-cc0729cadb18",
   "metadata": {
    "collapsed": true,
    "jupyter": {
     "outputs_hidden": true
    },
    "scrolled": true
   },
   "outputs": [
    {
     "data": {
      "text/plain": [
       "<matplotlib.image.AxesImage at 0x16975f9d0>"
      ]
     },
     "execution_count": 13,
     "metadata": {},
     "output_type": "execute_result"
    },
    {
     "data": {
      "image/png": "[encoded data removed]",
      "text/plain": [
       "<Figure size 640x480 with 1 Axes>"
      ]
     },
     "metadata": {},
     "output_type": "display_data"
    }
   ],
   "source": [
    "plt.figure()\n",
    "plt.imshow(imat[:,2].reshape(4,2))"
   ]
  },
  {
   "cell_type": "code",
   "execution_count": 53,
   "id": "f657be46-e21b-4161-9064-0cce0daec024",
   "metadata": {},
   "outputs": [],
   "source": [
    "masks = np.load(\"calib/subaps2x2_64pix.npy\")"
   ]
  },
  {
   "cell_type": "code",
   "execution_count": 39,
   "id": "2027b72f-35d4-4bbe-a29b-719f82cab47b",
   "metadata": {
    "jupyter": {
     "source_hidden": true
    }
   },
   "outputs": [],
   "source": [
    "masks_new = masks.copy()\n",
    "masks_new[1] = masks[3]\n",
    "masks_new[2] = masks[1]\n",
    "masks_new[3] = masks[2]"
   ]
  },
  {
   "cell_type": "code",
   "execution_count": 40,
   "id": "367cb2f8-f6e4-4cc8-8ca6-c714113262b8",
   "metadata": {
    "jupyter": {
     "source_hidden": true
    }
   },
   "outputs": [],
   "source": [
    "np.save(\"calib/subaps2x2_32pix.npy\", masks_new)"
   ]
  },
  {
   "cell_type": "code",
   "execution_count": 57,
   "id": "9d3bdaf2-78ad-42d4-a414-aa50766d701a",
   "metadata": {},
   "outputs": [
    {
     "data": {
      "text/plain": [
       "<matplotlib.image.AxesImage at 0x355036df0>"
      ]
     },
     "execution_count": 57,
     "metadata": {},
     "output_type": "execute_result"
    },
    {
     "data": {
      "image/png": "[encoded data removed]",
      "text/plain": [
       "<Figure size 640x480 with 1 Axes>"
      ]
     },
     "metadata": {},
     "output_type": "display_data"
    }
   ],
   "source": [
    "plt.figure()\n",
    "plt.imshow(masks[3], origin=\"lower\")"
   ]
  },
  {
   "cell_type": "code",
   "execution_count": 39,
   "id": "8b108ef2-de28-4a38-91ab-8b2600ab65e3",
   "metadata": {},
   "outputs": [
    {
     "name": "stdout",
     "output_type": "stream",
     "text": [
      "[[ 2.          0.         -3.46410162 -2.44948974 -2.44948974  4.24264069\n",
      "   2.82842712]\n",
      " [ 2.          0.         -3.46410162 -2.44948974 -2.44948974  4.24264069\n",
      "   2.82842712]\n",
      " [ 2.          0.          3.46410162  2.44948974  2.44948974  4.24264069\n",
      "   2.82842712]\n",
      " [ 2.          0.          3.46410162 -2.44948974  2.44948974 -4.24264069\n",
      "   2.82842712]\n",
      " [ 0.          2.         -3.46410162 -2.44948974  2.44948974  2.82842712\n",
      "   4.24264069]\n",
      " [ 0.          2.         -3.46410162 -2.44948974  2.44948974  2.82842712\n",
      "   4.24264069]\n",
      " [ 0.          2.          3.46410162  2.44948974 -2.44948974  2.82842712\n",
      "   4.24264069]\n",
      " [ 0.          2.         -3.46410162  2.44948974  2.44948974  2.82842712\n",
      "  -4.24264069]]\n"
     ]
    }
   ],
   "source": [
    "imat = np.load(\"calib/im_felix_theor_zern7.npy\")\n",
    "print(imat)"
   ]
  },
  {
   "cell_type": "code",
   "execution_count": 25,
   "id": "ca543a74-9368-4a35-b634-6edf39916f06",
   "metadata": {},
   "outputs": [],
   "source": [
    "from astropy.io import fits"
   ]
  },
  {
   "cell_type": "code",
   "execution_count": 40,
   "id": "8e34474d-00d3-4a33-9704-ff8c4f049fc0",
   "metadata": {},
   "outputs": [],
   "source": [
    "imat = fits.getdata(\"/Users/ellenlee/Documents/IRTF-ZernikeServer/data/slopesXandY.fits\")\n",
    "imat = imat.reshape((7,8)).T"
   ]
  },
  {
   "cell_type": "code",
   "execution_count": 41,
   "id": "64fada97-5641-40c0-8050-1263350224e7",
   "metadata": {
    "collapsed": true,
    "jupyter": {
     "outputs_hidden": true
    }
   },
   "outputs": [
    {
     "data": {
      "image/png": "[encoded data removed]",
      "text/plain": [
       "<Figure size 640x480 with 1 Axes>"
      ]
     },
     "metadata": {},
     "output_type": "display_data"
    },
    {
     "data": {
      "image/png": "[encoded data removed]",
      "text/plain": [
       "<Figure size 640x480 with 1 Axes>"
      ]
     },
     "metadata": {},
     "output_type": "display_data"
    },
    {
     "data": {
      "image/png": "[encoded data removed]",
      "text/plain": [
       "<Figure size 640x480 with 1 Axes>"
      ]
     },
     "metadata": {},
     "output_type": "display_data"
    },
    {
     "data": {
      "image/png": "[encoded data removed]",
      "text/plain": [
       "<Figure size 640x480 with 1 Axes>"
      ]
     },
     "metadata": {},
     "output_type": "display_data"
    },
    {
     "data": {
      "image/png": "[encoded data removed]",
      "text/plain": [
       "<Figure size 640x480 with 1 Axes>"
      ]
     },
     "metadata": {},
     "output_type": "display_data"
    },
    {
     "data": {
      "image/png": "[encoded data removed]",
      "text/plain": [
       "<Figure size 640x480 with 1 Axes>"
      ]
     },
     "metadata": {},
     "output_type": "display_data"
    },
    {
     "data": {
      "image/png": "[encoded data removed]",
      "text/plain": [
       "<Figure size 640x480 with 1 Axes>"
      ]
     },
     "metadata": {},
     "output_type": "display_data"
    }
   ],
   "source": [
    "for i in range(7):\n",
    "    plt.figure()\n",
    "    plt.imshow(imat[:,i].reshape(4,2))"
   ]
  }
 ],
 "metadata": {
  "kernelspec": {
   "display_name": "Python 3 (ipykernel)",
   "language": "python",
   "name": "python3"
  },
  "language_info": {
   "codemirror_mode": {
    "name": "ipython",
    "version": 3
   },
   "file_extension": ".py",
   "mimetype": "text/x-python",
   "name": "python",
   "nbconvert_exporter": "python",
   "pygments_lexer": "ipython3",
   "version": "3.9.20"
  }
 },
 "nbformat": 4,
 "nbformat_minor": 5
}
