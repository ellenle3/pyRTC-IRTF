{
 "cells": [
  {
   "cell_type": "code",
   "execution_count": 1,
   "id": "c308ba58-5022-426a-ab11-ae9264c63b02",
   "metadata": {},
   "outputs": [
    {
     "name": "stdout",
     "output_type": "stream",
     "text": [
      "Spinnaker python SDK installation not found\n",
      "ximea python SDK installation not found\n",
      "PI python SDK installation not found\n",
      "Andor python SDK installation not found\n"
     ]
    }
   ],
   "source": [
    "import numpy as np\n",
    "import matplotlib.pyplot as plt\n",
    "\n",
    "\n",
    "import pyRTC.utils as utils\n",
    "from pyRTC import *\n",
    "from astropy.io import fits"
   ]
  },
  {
   "cell_type": "code",
   "execution_count": 2,
   "id": "870d2e91-906d-4588-9bc2-75ec87ccbd03",
   "metadata": {
    "collapsed": true,
    "jupyter": {
     "outputs_hidden": true
    },
    "scrolled": true
   },
   "outputs": [
    {
     "name": "stdout",
     "output_type": "stream",
     "text": [
      "Opening Existing Shared Memory Object wfs\n",
      "Opening Existing Shared Memory Object wfs_meta\n",
      "Opening Existing Shared Memory Object wfs_meta\n",
      "Closing wfs\n",
      "Creating New Shared Memory Object wfs_gpu_handle\n",
      "Opening Existing Shared Memory Object wfs_gpu_handle_meta\n",
      "Closing wfs_meta\n",
      "Opening Existing Shared Memory Object wfsRaw\n",
      "Opening Existing Shared Memory Object wfsRaw_meta\n",
      "Closing wfs_gpu_handle\n",
      "Opening Existing Shared Memory Object wfsRaw_meta\n",
      "Closing wfsRaw\n",
      "Creating New Shared Memory Object wfsRaw_gpu_handle\n",
      "Opening Existing Shared Memory Object wfsRaw_gpu_handle_meta\n",
      "Closing wfsRaw_meta\n",
      "Opening Existing Shared Memory Object wfc\n",
      "Opening Existing Shared Memory Object wfc_meta\n",
      "Closing wfsRaw_gpu_handle\n",
      "Opening Existing Shared Memory Object wfc_meta\n",
      "Closing wfc\n",
      "Creating New Shared Memory Object wfc_gpu_handle\n",
      "Opening Existing Shared Memory Object wfc_gpu_handle_meta\n",
      "Closing wfc_meta\n",
      "Opening Existing Shared Memory Object wfc2D\n",
      "Opening Existing Shared Memory Object wfc2D_meta\n",
      "Closing wfc_gpu_handle\n",
      "Opening Existing Shared Memory Object wfc2D_meta\n",
      "Closing wfc2D\n",
      "Creating New Shared Memory Object wfc2D_gpu_handle\n",
      "Opening Existing Shared Memory Object wfc2D_gpu_handle_meta\n",
      "Closing wfc2D_meta\n",
      "Opening Existing Shared Memory Object wfcShape\n",
      "Opening Existing Shared Memory Object wfcShape_meta\n",
      "Closing wfc2D_gpu_handle\n",
      "Opening Existing Shared Memory Object wfcShape_meta\n",
      "Closing wfcShape\n",
      "Creating New Shared Memory Object wfcShape_gpu_handle\n",
      "Opening Existing Shared Memory Object wfcShape_gpu_handle_meta\n",
      "Closing wfcShape_meta\n",
      "Opening Existing Shared Memory Object signal\n",
      "Opening Existing Shared Memory Object signal_meta\n",
      "Closing wfcShape_gpu_handle\n",
      "Opening Existing Shared Memory Object signal_meta\n",
      "Closing signal\n",
      "Creating New Shared Memory Object signal_gpu_handle\n",
      "Opening Existing Shared Memory Object signal_gpu_handle_meta\n",
      "Closing signal_meta\n",
      "Opening Existing Shared Memory Object signal2D\n",
      "Opening Existing Shared Memory Object signal2D_meta\n",
      "Closing signal_gpu_handle\n",
      "Opening Existing Shared Memory Object signal2D_meta\n",
      "Closing signal2D\n",
      "Creating New Shared Memory Object signal2D_gpu_handle\n",
      "Opening Existing Shared Memory Object signal2D_gpu_handle_meta\n",
      "Closing signal2D_meta\n",
      "Creating New Shared Memory Object psfShort\n",
      "Creating New Shared Memory Object psfShort_meta\n",
      "Closing signal2D_gpu_handle\n",
      "Opening Existing Shared Memory Object psfShort_meta\n",
      "Closing psfShort\n",
      "Creating New Shared Memory Object psfShort_gpu_handle\n",
      "Opening Existing Shared Memory Object psfShort_gpu_handle_meta\n",
      "Closing psfShort_meta\n",
      "Creating New Shared Memory Object psfLong\n",
      "Creating New Shared Memory Object psfLong_meta\n",
      "Closing psfShort_gpu_handle\n",
      "Opening Existing Shared Memory Object psfLong_meta\n",
      "Closing psfLong\n",
      "Creating New Shared Memory Object psfLong_gpu_handle\n",
      "Opening Existing Shared Memory Object psfLong_gpu_handle_meta\n",
      "Closing psfLong_meta\n",
      "Opening Existing Shared Memory Object wfsInfo\n",
      "Opening Existing Shared Memory Object wfsInfo_meta\n",
      "Closing psfLong_gpu_handle\n",
      "Opening Existing Shared Memory Object wfsInfo_meta\n",
      "Closing wfsInfo\n",
      "Creating New Shared Memory Object wfsInfo_gpu_handle\n",
      "Opening Existing Shared Memory Object wfsInfo_gpu_handle_meta\n",
      "Closing wfsInfo_meta\n",
      "Opening Existing Shared Memory Object loop\n",
      "Opening Existing Shared Memory Object loop_meta\n",
      "Closing wfsInfo_gpu_handle\n",
      "Opening Existing Shared Memory Object loop_meta\n",
      "Closing loop\n",
      "Creating New Shared Memory Object loop_gpu_handle\n",
      "Opening Existing Shared Memory Object loop_gpu_handle_meta\n",
      "Closing loop_meta\n",
      "Opening Existing Shared Memory Object refSlopes\n",
      "Opening Existing Shared Memory Object refSlopes_meta\n",
      "Closing loop_gpu_handle\n",
      "Opening Existing Shared Memory Object refSlopes_meta\n",
      "Closing refSlopes\n",
      "Creating New Shared Memory Object refSlopes_gpu_handle\n",
      "Opening Existing Shared Memory Object refSlopes_gpu_handle_meta\n",
      "Closing refSlopes_meta\n",
      "Opening Existing Shared Memory Object subApMasks\n",
      "Opening Existing Shared Memory Object subApMasks_meta\n",
      "Closing refSlopes_gpu_handle\n",
      "Opening Existing Shared Memory Object subApMasks_meta\n",
      "Closing subApMasks\n",
      "Creating New Shared Memory Object subApMasks_gpu_handle\n",
      "Opening Existing Shared Memory Object subApMasks_gpu_handle_meta\n",
      "Closing subApMasks_meta\n",
      "Closing subApMasks_gpu_handle\n"
     ]
    },
    {
     "name": "stderr",
     "output_type": "stream",
     "text": [
      "Traceback (most recent call last):\n",
      "  File \"/Users/ellenlee/opt/anaconda3-arm64/envs/pyrtc/lib/python3.9/multiprocessing/resource_tracker.py\", line 201, in main\n",
      "    cache[rtype].remove(name)\n",
      "KeyError: '/wfs'\n",
      "Traceback (most recent call last):\n",
      "  File \"/Users/ellenlee/opt/anaconda3-arm64/envs/pyrtc/lib/python3.9/multiprocessing/resource_tracker.py\", line 201, in main\n",
      "    cache[rtype].remove(name)\n",
      "KeyError: '/wfs_meta'\n",
      "Traceback (most recent call last):\n",
      "  File \"/Users/ellenlee/opt/anaconda3-arm64/envs/pyrtc/lib/python3.9/multiprocessing/resource_tracker.py\", line 201, in main\n",
      "    cache[rtype].remove(name)\n",
      "KeyError: '/wfs_gpu_handle'\n",
      "Traceback (most recent call last):\n",
      "  File \"/Users/ellenlee/opt/anaconda3-arm64/envs/pyrtc/lib/python3.9/multiprocessing/resource_tracker.py\", line 201, in main\n",
      "    cache[rtype].remove(name)\n",
      "KeyError: '/wfsRaw'\n",
      "Traceback (most recent call last):\n",
      "  File \"/Users/ellenlee/opt/anaconda3-arm64/envs/pyrtc/lib/python3.9/multiprocessing/resource_tracker.py\", line 201, in main\n",
      "    cache[rtype].remove(name)\n",
      "KeyError: '/wfsRaw_meta'\n",
      "Traceback (most recent call last):\n",
      "  File \"/Users/ellenlee/opt/anaconda3-arm64/envs/pyrtc/lib/python3.9/multiprocessing/resource_tracker.py\", line 201, in main\n",
      "    cache[rtype].remove(name)\n",
      "KeyError: '/wfsRaw_gpu_handle'\n",
      "Traceback (most recent call last):\n",
      "  File \"/Users/ellenlee/opt/anaconda3-arm64/envs/pyrtc/lib/python3.9/multiprocessing/resource_tracker.py\", line 201, in main\n",
      "    cache[rtype].remove(name)\n",
      "KeyError: '/wfc'\n",
      "Traceback (most recent call last):\n",
      "  File \"/Users/ellenlee/opt/anaconda3-arm64/envs/pyrtc/lib/python3.9/multiprocessing/resource_tracker.py\", line 201, in main\n",
      "    cache[rtype].remove(name)\n",
      "KeyError: '/wfc_meta'\n",
      "Traceback (most recent call last):\n",
      "  File \"/Users/ellenlee/opt/anaconda3-arm64/envs/pyrtc/lib/python3.9/multiprocessing/resource_tracker.py\", line 201, in main\n",
      "    cache[rtype].remove(name)\n",
      "KeyError: '/wfc_gpu_handle'\n",
      "Traceback (most recent call last):\n",
      "  File \"/Users/ellenlee/opt/anaconda3-arm64/envs/pyrtc/lib/python3.9/multiprocessing/resource_tracker.py\", line 201, in main\n",
      "    cache[rtype].remove(name)\n",
      "KeyError: '/wfc2D'\n",
      "Traceback (most recent call last):\n",
      "  File \"/Users/ellenlee/opt/anaconda3-arm64/envs/pyrtc/lib/python3.9/multiprocessing/resource_tracker.py\", line 201, in main\n",
      "    cache[rtype].remove(name)\n",
      "KeyError: '/wfc2D_meta'\n",
      "Traceback (most recent call last):\n",
      "  File \"/Users/ellenlee/opt/anaconda3-arm64/envs/pyrtc/lib/python3.9/multiprocessing/resource_tracker.py\", line 201, in main\n",
      "    cache[rtype].remove(name)\n",
      "KeyError: '/wfc2D_gpu_handle'\n",
      "Traceback (most recent call last):\n",
      "  File \"/Users/ellenlee/opt/anaconda3-arm64/envs/pyrtc/lib/python3.9/multiprocessing/resource_tracker.py\", line 201, in main\n",
      "    cache[rtype].remove(name)\n",
      "KeyError: '/wfcShape'\n",
      "Traceback (most recent call last):\n",
      "  File \"/Users/ellenlee/opt/anaconda3-arm64/envs/pyrtc/lib/python3.9/multiprocessing/resource_tracker.py\", line 201, in main\n",
      "    cache[rtype].remove(name)\n",
      "KeyError: '/wfcShape_meta'\n",
      "Traceback (most recent call last):\n",
      "  File \"/Users/ellenlee/opt/anaconda3-arm64/envs/pyrtc/lib/python3.9/multiprocessing/resource_tracker.py\", line 201, in main\n",
      "    cache[rtype].remove(name)\n",
      "KeyError: '/wfcShape_gpu_handle'\n",
      "Traceback (most recent call last):\n",
      "  File \"/Users/ellenlee/opt/anaconda3-arm64/envs/pyrtc/lib/python3.9/multiprocessing/resource_tracker.py\", line 201, in main\n",
      "    cache[rtype].remove(name)\n",
      "KeyError: '/signal'\n",
      "Traceback (most recent call last):\n",
      "  File \"/Users/ellenlee/opt/anaconda3-arm64/envs/pyrtc/lib/python3.9/multiprocessing/resource_tracker.py\", line 201, in main\n",
      "    cache[rtype].remove(name)\n",
      "KeyError: '/signal_meta'\n",
      "Traceback (most recent call last):\n",
      "  File \"/Users/ellenlee/opt/anaconda3-arm64/envs/pyrtc/lib/python3.9/multiprocessing/resource_tracker.py\", line 201, in main\n",
      "    cache[rtype].remove(name)\n",
      "KeyError: '/signal_gpu_handle'\n",
      "Traceback (most recent call last):\n",
      "  File \"/Users/ellenlee/opt/anaconda3-arm64/envs/pyrtc/lib/python3.9/multiprocessing/resource_tracker.py\", line 201, in main\n",
      "    cache[rtype].remove(name)\n",
      "KeyError: '/signal2D'\n",
      "Traceback (most recent call last):\n",
      "  File \"/Users/ellenlee/opt/anaconda3-arm64/envs/pyrtc/lib/python3.9/multiprocessing/resource_tracker.py\", line 201, in main\n",
      "    cache[rtype].remove(name)\n",
      "KeyError: '/signal2D_meta'\n",
      "Traceback (most recent call last):\n",
      "  File \"/Users/ellenlee/opt/anaconda3-arm64/envs/pyrtc/lib/python3.9/multiprocessing/resource_tracker.py\", line 201, in main\n",
      "    cache[rtype].remove(name)\n",
      "KeyError: '/signal2D_gpu_handle'\n",
      "Traceback (most recent call last):\n",
      "  File \"/Users/ellenlee/opt/anaconda3-arm64/envs/pyrtc/lib/python3.9/multiprocessing/resource_tracker.py\", line 201, in main\n",
      "    cache[rtype].remove(name)\n",
      "KeyError: '/psfShort'\n",
      "Traceback (most recent call last):\n",
      "  File \"/Users/ellenlee/opt/anaconda3-arm64/envs/pyrtc/lib/python3.9/multiprocessing/resource_tracker.py\", line 201, in main\n",
      "    cache[rtype].remove(name)\n",
      "KeyError: '/psfShort_meta'\n",
      "Traceback (most recent call last):\n",
      "  File \"/Users/ellenlee/opt/anaconda3-arm64/envs/pyrtc/lib/python3.9/multiprocessing/resource_tracker.py\", line 201, in main\n",
      "    cache[rtype].remove(name)\n",
      "KeyError: '/psfShort_gpu_handle'\n",
      "Traceback (most recent call last):\n",
      "  File \"/Users/ellenlee/opt/anaconda3-arm64/envs/pyrtc/lib/python3.9/multiprocessing/resource_tracker.py\", line 201, in main\n",
      "    cache[rtype].remove(name)\n",
      "KeyError: '/psfLong'\n",
      "Traceback (most recent call last):\n",
      "  File \"/Users/ellenlee/opt/anaconda3-arm64/envs/pyrtc/lib/python3.9/multiprocessing/resource_tracker.py\", line 201, in main\n",
      "    cache[rtype].remove(name)\n",
      "KeyError: '/psfLong_meta'\n",
      "Traceback (most recent call last):\n",
      "  File \"/Users/ellenlee/opt/anaconda3-arm64/envs/pyrtc/lib/python3.9/multiprocessing/resource_tracker.py\", line 201, in main\n",
      "    cache[rtype].remove(name)\n",
      "KeyError: '/psfLong_gpu_handle'\n",
      "Traceback (most recent call last):\n",
      "  File \"/Users/ellenlee/opt/anaconda3-arm64/envs/pyrtc/lib/python3.9/multiprocessing/resource_tracker.py\", line 201, in main\n",
      "    cache[rtype].remove(name)\n",
      "KeyError: '/wfsInfo'\n",
      "Traceback (most recent call last):\n",
      "  File \"/Users/ellenlee/opt/anaconda3-arm64/envs/pyrtc/lib/python3.9/multiprocessing/resource_tracker.py\", line 201, in main\n",
      "    cache[rtype].remove(name)\n",
      "KeyError: '/wfsInfo_meta'\n",
      "Traceback (most recent call last):\n",
      "  File \"/Users/ellenlee/opt/anaconda3-arm64/envs/pyrtc/lib/python3.9/multiprocessing/resource_tracker.py\", line 201, in main\n",
      "    cache[rtype].remove(name)\n",
      "KeyError: '/wfsInfo_gpu_handle'\n",
      "Traceback (most recent call last):\n",
      "  File \"/Users/ellenlee/opt/anaconda3-arm64/envs/pyrtc/lib/python3.9/multiprocessing/resource_tracker.py\", line 201, in main\n",
      "    cache[rtype].remove(name)\n",
      "KeyError: '/loop'\n",
      "Traceback (most recent call last):\n",
      "  File \"/Users/ellenlee/opt/anaconda3-arm64/envs/pyrtc/lib/python3.9/multiprocessing/resource_tracker.py\", line 201, in main\n",
      "    cache[rtype].remove(name)\n",
      "KeyError: '/loop_meta'\n",
      "Traceback (most recent call last):\n",
      "  File \"/Users/ellenlee/opt/anaconda3-arm64/envs/pyrtc/lib/python3.9/multiprocessing/resource_tracker.py\", line 201, in main\n",
      "    cache[rtype].remove(name)\n",
      "KeyError: '/loop_gpu_handle'\n",
      "Traceback (most recent call last):\n",
      "  File \"/Users/ellenlee/opt/anaconda3-arm64/envs/pyrtc/lib/python3.9/multiprocessing/resource_tracker.py\", line 201, in main\n",
      "    cache[rtype].remove(name)\n",
      "KeyError: '/refSlopes'\n",
      "Traceback (most recent call last):\n",
      "  File \"/Users/ellenlee/opt/anaconda3-arm64/envs/pyrtc/lib/python3.9/multiprocessing/resource_tracker.py\", line 201, in main\n",
      "    cache[rtype].remove(name)\n",
      "KeyError: '/refSlopes_meta'\n",
      "Traceback (most recent call last):\n",
      "  File \"/Users/ellenlee/opt/anaconda3-arm64/envs/pyrtc/lib/python3.9/multiprocessing/resource_tracker.py\", line 201, in main\n",
      "    cache[rtype].remove(name)\n",
      "KeyError: '/refSlopes_gpu_handle'\n",
      "Traceback (most recent call last):\n",
      "  File \"/Users/ellenlee/opt/anaconda3-arm64/envs/pyrtc/lib/python3.9/multiprocessing/resource_tracker.py\", line 201, in main\n",
      "    cache[rtype].remove(name)\n",
      "KeyError: '/subApMasks'\n",
      "Traceback (most recent call last):\n",
      "  File \"/Users/ellenlee/opt/anaconda3-arm64/envs/pyrtc/lib/python3.9/multiprocessing/resource_tracker.py\", line 201, in main\n",
      "    cache[rtype].remove(name)\n",
      "KeyError: '/subApMasks_meta'\n",
      "Traceback (most recent call last):\n",
      "  File \"/Users/ellenlee/opt/anaconda3-arm64/envs/pyrtc/lib/python3.9/multiprocessing/resource_tracker.py\", line 201, in main\n",
      "    cache[rtype].remove(name)\n",
      "KeyError: '/subApMasks_gpu_handle'\n"
     ]
    }
   ],
   "source": [
    "shm_names = [\"wfs\", \"wfsRaw\", \"wfc\", \"wfc2D\", \"wfcShape\", \"signal\", \"signal2D\", \"psfShort\", \"psfLong\", \"wfsInfo\", \"loop\", \"refSlopes\", \"subApMasks\"] #list of SHMs to reset\n",
    "clear_shms(shm_names)"
   ]
  },
  {
   "cell_type": "code",
   "execution_count": 3,
   "id": "e7d0f586",
   "metadata": {},
   "outputs": [
    {
     "name": "stdout",
     "output_type": "stream",
     "text": [
      "Thread expose: Priority set to REALTIME\n",
      "Opening Existing Shared Memory Object wfsRaw\n",
      "Opening Existing Shared Memory Object wfsRaw_meta\n",
      "Opening Existing Shared Memory Object wfs\n",
      "Opening Existing Shared Memory Object wfs_meta\n",
      "Opening Existing Shared Memory Object wfsInfo\n",
      "Opening Existing Shared Memory Object wfsInfo_meta\n"
     ]
    }
   ],
   "source": [
    "# Get WFS image. make sure to reset SHMs after you're done.\n",
    "conf = utils.read_yaml_file(\"config_felixsim.yaml\")\n",
    "wfs_conf = conf[\"wfs\"]\n",
    "wfs = FELIXSimulator(wfs_conf)\n",
    "wfs.start()\n",
    "time.sleep(1)\n",
    "img = wfs.image.read_noblock()\n",
    "wfs.stop()\n",
    "fits.writeto(\"../pyRTCView/felix_image.fits\", img, overwrite=True)"
   ]
  },
  {
   "cell_type": "markdown",
   "id": "f6a93337-4c5c-46fd-a634-abcfbaaae80c",
   "metadata": {},
   "source": [
    "## Init hardware"
   ]
  },
  {
   "cell_type": "code",
   "execution_count": 2,
   "id": "0cc6e277-5f29-4966-b5a1-fd6e63f6dd54",
   "metadata": {},
   "outputs": [],
   "source": [
    "conf = utils.read_yaml_file(\"config_felixsim.yaml\")\n",
    "wfs_conf = conf[\"wfs\"]\n",
    "slopes_conf = conf[\"slopes\"]\n",
    "dm_conf = conf[\"wfc\"]"
   ]
  },
  {
   "cell_type": "code",
   "execution_count": 3,
   "id": "cf84f051-3740-40ef-a75d-e652b867d3d5",
   "metadata": {},
   "outputs": [
    {
     "name": "stdout",
     "output_type": "stream",
     "text": [
      "Thread expose: Priority set to REALTIME\n",
      "Opening Existing Shared Memory Object wfsRaw\n",
      "Opening Existing Shared Memory Object wfsRaw_meta\n",
      "Opening Existing Shared Memory Object wfs\n",
      "Opening Existing Shared Memory Object wfs_meta\n",
      "Opening Existing Shared Memory Object wfsInfo\n",
      "Opening Existing Shared Memory Object wfsInfo_meta\n",
      "Thread computeSignal: Priority set to REALTIME\n",
      "Opening Existing Shared Memory Object wfs_meta\n",
      "Closing wfs_meta\n",
      "Opening Existing Shared Memory Object wfs\n",
      "Opening Existing Shared Memory Object wfs_meta\n",
      "Opening Existing Shared Memory Object subApMasks\n",
      "Opening Existing Shared Memory Object subApMasks_meta\n",
      "Opening Existing Shared Memory Object signal\n",
      "Opening Existing Shared Memory Object signal_meta\n",
      "Opening Existing Shared Memory Object signal2D\n",
      "Opening Existing Shared Memory Object signal2D_meta\n",
      "Opening Existing Shared Memory Object refSlopes\n",
      "Opening Existing Shared Memory Object refSlopes_meta\n",
      "Thread sendToHardware: Priority set to REALTIME\n",
      "Opening Existing Shared Memory Object wfc\n",
      "Opening Existing Shared Memory Object wfc_meta\n",
      "Opening Existing Shared Memory Object wfcShape\n",
      "Opening Existing Shared Memory Object wfcShape_meta\n",
      "Opening Existing Shared Memory Object wfc2D\n",
      "Opening Existing Shared Memory Object wfc2D_meta\n"
     ]
    }
   ],
   "source": [
    "wfs = FELIXSimulator(wfs_conf)\n",
    "slopes = SlopesProcess(conf=slopes_conf)\n",
    "dm = IRTFASMSimulator(dm_conf, wfs)"
   ]
  },
  {
   "cell_type": "code",
   "execution_count": 4,
   "id": "5490fe76-9535-4148-9221-a7f70c32185e",
   "metadata": {},
   "outputs": [],
   "source": [
    "wfs.start()\n",
    "slopes.start()\n",
    "dm.start()\n",
    "\n",
    "dm.flatten()"
   ]
  },
  {
   "cell_type": "code",
   "execution_count": 5,
   "id": "bf3a3e2f-3de3-4d0f-9b4d-10b5b27dc3e9",
   "metadata": {},
   "outputs": [
    {
     "name": "stdout",
     "output_type": "stream",
     "text": [
      "Thread leakyIntegrator: Priority set to REALTIME\n",
      "Opening Existing Shared Memory Object signal_meta\n",
      "Closing signal_meta\n",
      "Opening Existing Shared Memory Object signal\n",
      "Opening Existing Shared Memory Object signal_meta\n",
      "Opening Existing Shared Memory Object wfc_meta\n",
      "Closing wfc_meta\n",
      "Opening Existing Shared Memory Object wfc\n",
      "Opening Existing Shared Memory Object wfc_meta\n",
      "Opening Existing Shared Memory Object loop\n",
      "Opening Existing Shared Memory Object loop_meta\n",
      "Opening Existing Shared Memory Object wfsInfo_meta\n",
      "Closing wfsInfo_meta\n",
      "Opening Existing Shared Memory Object wfsInfo\n",
      "Opening Existing Shared Memory Object wfsInfo_meta\n"
     ]
    }
   ],
   "source": [
    "loop_conf = conf[\"loop\"]\n",
    "loop = Loop(loop_conf)"
   ]
  },
  {
   "cell_type": "markdown",
   "id": "dec71931-c64e-4418-9e0d-b2e5fa5936b9",
   "metadata": {},
   "source": [
    "## Run loop"
   ]
  },
  {
   "cell_type": "code",
   "execution_count": 6,
   "id": "d626423a",
   "metadata": {},
   "outputs": [],
   "source": [
    "loop.stop()"
   ]
  },
  {
   "cell_type": "code",
   "execution_count": 75,
   "id": "81f0d001",
   "metadata": {},
   "outputs": [],
   "source": [
    "loop.setGain(0.0)\n",
    "loop.leakyGain = 0.0\n",
    "loop.start()"
   ]
  },
  {
   "cell_type": "code",
   "execution_count": 46,
   "id": "37183ac2",
   "metadata": {},
   "outputs": [],
   "source": [
    "dm.flatten()"
   ]
  },
  {
   "cell_type": "code",
   "execution_count": 45,
   "id": "aafaf9ee",
   "metadata": {},
   "outputs": [],
   "source": [
    "loop.pbGain = 0.0"
   ]
  },
  {
   "cell_type": "code",
   "execution_count": 7,
   "id": "7cce6ef1",
   "metadata": {},
   "outputs": [],
   "source": [
    "slopes.refSlopes *= 0"
   ]
  },
  {
   "cell_type": "code",
   "execution_count": 43,
   "id": "5a01c793",
   "metadata": {},
   "outputs": [],
   "source": [
    "slopes.takeRefSlopes()"
   ]
  },
  {
   "cell_type": "code",
   "execution_count": 29,
   "id": "c8dcc36c",
   "metadata": {},
   "outputs": [],
   "source": [
    "wfs.slopeNoise = 0.\n",
    "wfs.amplitude = 20\n",
    "wfs.detectorNoise = 5\n",
    "wfs.lag = 200"
   ]
  },
  {
   "cell_type": "code",
   "execution_count": 77,
   "id": "d073a7dd-8812-4575-89f4-9e53f9693764",
   "metadata": {},
   "outputs": [],
   "source": [
    "loop.numItersIM = 1000\n",
    "loop.pokeAmp = 0.5"
   ]
  },
  {
   "cell_type": "code",
   "execution_count": 78,
   "id": "be6fdc57",
   "metadata": {},
   "outputs": [],
   "source": [
    "loop.IMMethod = 0#\"docrime\"\n",
    "loop.computeIM()\n",
    "dm.flatten()"
   ]
  },
  {
   "cell_type": "code",
   "execution_count": 80,
   "id": "770cf72a",
   "metadata": {},
   "outputs": [],
   "source": [
    "loop.saveIM(\"calib/imat/imat.poke.20250930.a.npy\")"
   ]
  },
  {
   "cell_type": "code",
   "execution_count": null,
   "id": "677bd89e",
   "metadata": {},
   "outputs": [],
   "source": [
    "imat_zonal = loop."
   ]
  },
  {
   "cell_type": "code",
   "execution_count": 70,
   "id": "392f808f",
   "metadata": {},
   "outputs": [],
   "source": [
    "loop.loadIM()#\"calib/imat/imat.cacofoni.20250930.a.npy\")"
   ]
  },
  {
   "cell_type": "code",
   "execution_count": null,
   "id": "bedfedd7",
   "metadata": {},
   "outputs": [],
   "source": []
  },
  {
   "cell_type": "code",
   "execution_count": 79,
   "id": "2118f254",
   "metadata": {},
   "outputs": [
    {
     "data": {
      "image/png": "[encoded data removed]",
      "text/plain": [
       "<Figure size 640x480 with 1 Axes>"
      ]
     },
     "metadata": {},
     "output_type": "display_data"
    }
   ],
   "source": [
    "loop.plotIM()"
   ]
  },
  {
   "cell_type": "code",
   "execution_count": 72,
   "id": "b8f2572d",
   "metadata": {},
   "outputs": [
    {
     "data": {
      "text/plain": [
       "array([[0., 0., 0., 0., 0., 0., 0.],\n",
       "       [0., 0., 0., 0., 0., 0., 0.],\n",
       "       [0., 0., 0., 0., 0., 0., 0.],\n",
       "       [0., 0., 0., 0., 0., 0., 0.],\n",
       "       [0., 0., 0., 0., 0., 0., 0.],\n",
       "       [0., 0., 0., 0., 0., 0., 0.],\n",
       "       [0., 0., 0., 0., 0., 0., 0.],\n",
       "       [0., 0., 0., 0., 0., 0., 0.]], dtype=float32)"
      ]
     },
     "execution_count": 72,
     "metadata": {},
     "output_type": "execute_result"
    }
   ],
   "source": [
    "loop.IM"
   ]
  },
  {
   "cell_type": "code",
   "execution_count": null,
   "id": "96985bd0",
   "metadata": {},
   "outputs": [],
   "source": [
    "loop.setNumDroppedModes(0)"
   ]
  },
  {
   "cell_type": "code",
   "execution_count": 35,
   "id": "b34b6619",
   "metadata": {},
   "outputs": [],
   "source": [
    "loop.setGain(0.0)\n",
    "loop.leakyGain = 0.01\n",
    "loop.start()"
   ]
  },
  {
   "cell_type": "code",
   "execution_count": null,
   "id": "b22017fd",
   "metadata": {},
   "outputs": [],
   "source": [
    "slopes.loadChopMasks(\"/Users/ellenlee/Documents/pyRTC-IRTF/IRTF/calib/felixcal/masks_itp.fits\")"
   ]
  },
  {
   "cell_type": "code",
   "execution_count": 20,
   "id": "57cd004d",
   "metadata": {},
   "outputs": [],
   "source": [
    "dm.flatten()\n",
    "slopes.loadSubApMasks()\n",
    "slopes.loadChopMasks()"
   ]
  },
  {
   "cell_type": "code",
   "execution_count": 30,
   "id": "f3c7b3e0",
   "metadata": {},
   "outputs": [],
   "source": [
    "slopes.chopSubApsToPosition(\"BA\", 0.2)"
   ]
  },
  {
   "cell_type": "code",
   "execution_count": 23,
   "id": "1528fed0",
   "metadata": {},
   "outputs": [],
   "source": [
    "slopes.chopSubaps(freq=1,rampFraction=0.4,numIter=2)"
   ]
  },
  {
   "cell_type": "code",
   "execution_count": 29,
   "id": "0701f75a",
   "metadata": {},
   "outputs": [],
   "source": [
    "loop.stop()\n",
    "\n",
    "coeffs = np.random.normal(0, 0.02, 7)\n",
    "coeffs[7:] = 0\n",
    "\n",
    "#coeffs = np.zeros(36)\n",
    "#coeffs[0] = 0.02\n",
    "dm.write(coeffs)\n",
    "dm.sendToHardware()"
   ]
  },
  {
   "cell_type": "code",
   "execution_count": 27,
   "id": "3b335c18-dbb2-41d4-a319-b0dc24d946c5",
   "metadata": {},
   "outputs": [],
   "source": [
    "slopes.refSlopes *= 0"
   ]
  },
  {
   "cell_type": "code",
   "execution_count": 12,
   "id": "6dfc4f78",
   "metadata": {},
   "outputs": [],
   "source": [
    "slopes.loadRefSlopes(\"calib/felixcal/calpts_32_r0_12x12closed.npy\")"
   ]
  },
  {
   "cell_type": "code",
   "execution_count": null,
   "id": "c950c676",
   "metadata": {},
   "outputs": [],
   "source": []
  }
 ],
 "metadata": {
  "kernelspec": {
   "display_name": "pyrtc",
   "language": "python",
   "name": "python3"
  },
  "language_info": {
   "codemirror_mode": {
    "name": "ipython",
    "version": 3
   },
   "file_extension": ".py",
   "mimetype": "text/x-python",
   "name": "python",
   "nbconvert_exporter": "python",
   "pygments_lexer": "ipython3",
   "version": "3.9.23"
  }
 },
 "nbformat": 4,
 "nbformat_minor": 5
}
