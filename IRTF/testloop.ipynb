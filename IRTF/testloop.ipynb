{
 "cells": [
  {
   "cell_type": "code",
   "execution_count": 1,
   "id": "7382be99",
   "metadata": {},
   "outputs": [],
   "source": [
    "import time\n",
    "import matplotlib.pyplot as plt\n",
    "import pyRTC.utils as utils\n",
    "import numpy as np\n",
    "\n",
    "from pyRTC.hardware.ImakaDM import ImakaDM\n",
    "from pyRTC.hardware import SpinnakerWFS"
   ]
  },
  {
   "cell_type": "code",
   "execution_count": null,
   "id": "83ee3810",
   "metadata": {},
   "outputs": [],
   "source": [
    "conf = utils.read_yaml_file(\"config_felix.yaml\")\n",
    "dm_conf = conf[\"wfc\"]\n",
    "wfs_conf = conf[\"wfs\"]\n",
    "\n",
    "dm = ImakaDM(dm_conf)\n",
    "wfs = SpinnakerWFS(wfs_conf)"
   ]
  },
  {
   "cell_type": "code",
   "execution_count": null,
   "id": "ec67ed4c",
   "metadata": {},
   "outputs": [],
   "source": [
    "testcmd = np.zeros(dm.numActuators, dtype=np.float32)"
   ]
  }
 ],
 "metadata": {
  "kernelspec": {
   "display_name": "pyrtc",
   "language": "python",
   "name": "python3"
  },
  "language_info": {
   "codemirror_mode": {
    "name": "ipython",
    "version": 3
   },
   "file_extension": ".py",
   "mimetype": "text/x-python",
   "name": "python",
   "nbconvert_exporter": "python",
   "pygments_lexer": "ipython3",
   "version": "3.9.20"
  }
 },
 "nbformat": 4,
 "nbformat_minor": 5
}
