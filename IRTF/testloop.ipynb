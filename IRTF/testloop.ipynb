{
 "cells": [
  {
   "cell_type": "code",
   "execution_count": null,
   "id": "7382be99",
   "metadata": {},
   "outputs": [],
   "source": [
    "import time\n",
    "import matplotlib.pyplot as plt\n",
    "import pyRTC.utils as utils\n",
    "import numpy as np\n",
    "\n",
    "from pyRTC.hardware.ImakaDM import ImakaDM\n",
    "from pyRTC.hardware import SpinnakerWFS"
   ]
  },
  {
   "cell_type": "code",
   "execution_count": null,
   "id": "83ee3810",
   "metadata": {},
   "outputs": [],
   "source": [
    "conf = utils.read_yaml_file(\"config_felix.yaml\")\n",
    "dm_conf = conf[\"wfc\"]\n",
    "dm = ImakaDM(dm_conf)"
   ]
  }
 ],
 "metadata": {
  "language_info": {
   "name": "python"
  }
 },
 "nbformat": 4,
 "nbformat_minor": 5
}
